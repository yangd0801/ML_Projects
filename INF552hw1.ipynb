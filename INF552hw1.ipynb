{
  "nbformat": 4,
  "nbformat_minor": 0,
  "metadata": {
    "kernelspec": {
      "display_name": "Python 3",
      "language": "python",
      "name": "python3"
    },
    "language_info": {
      "codemirror_mode": {
        "name": "ipython",
        "version": 3
      },
      "file_extension": ".py",
      "mimetype": "text/x-python",
      "name": "python",
      "nbconvert_exporter": "python",
      "pygments_lexer": "ipython3",
      "version": "3.7.0"
    },
    "colab": {
      "name": "INF552hw1.ipynb",
      "provenance": [],
      "collapsed_sections": []
    }
  },
  "cells": [
    {
      "cell_type": "markdown",
      "metadata": {
        "id": "PIbq6fq4U574",
        "colab_type": "text"
      },
      "source": [
        "# KNN Classification\n",
        "This project classifies vertebral column data as normal or abnormal using six biomechanical attributes derived from the shape and orientation of the pelvis\n",
        "and lumbar spine. (310*7)\n",
        "\n",
        "KNN is used to conduct this binary classification."
      ]
    },
    {
      "cell_type": "markdown",
      "metadata": {
        "id": "Pnbvhgqdn2hY",
        "colab_type": "text"
      },
      "source": [
        "##Setup"
      ]
    },
    {
      "cell_type": "code",
      "metadata": {
        "id": "8tjqkF5LU575",
        "colab_type": "code",
        "colab": {}
      },
      "source": [
        "# import libraries\n",
        "import numpy as np                   #data manipulation\n",
        "import pandas as pd\n",
        "import matplotlib.pyplot as plt      #visualisation\n",
        "import seaborn as sns\n",
        "from sklearn import neighbors        #machine learning\n",
        "from sklearn.metrics import confusion_matrix\n",
        "from sklearn.metrics import classification_report\n",
        "\n",
        "%matplotlib inline\n",
        "sns.set(style='white',color_codes=True)"
      ],
      "execution_count": null,
      "outputs": []
    },
    {
      "cell_type": "markdown",
      "metadata": {
        "id": "261fxNd9oNXi",
        "colab_type": "text"
      },
      "source": [
        "##Load the vertebral column dataset"
      ]
    },
    {
      "cell_type": "code",
      "metadata": {
        "id": "OTi3HC-jU57-",
        "colab_type": "code",
        "colab": {}
      },
      "source": [
        "# load data into data frame\n",
        "ds = pd.read_table('column_2C.dat',sep=' ',header=None,names=list('ABCDEFY'))"
      ],
      "execution_count": null,
      "outputs": []
    },
    {
      "cell_type": "code",
      "metadata": {
        "id": "GrhVdkw4U58E",
        "colab_type": "code",
        "colab": {},
        "outputId": "b2cc8502-08a9-4588-83d0-aa08d44c9613"
      },
      "source": [
        "ds"
      ],
      "execution_count": null,
      "outputs": [
        {
          "output_type": "execute_result",
          "data": {
            "text/html": [
              "<div>\n",
              "<style scoped>\n",
              "    .dataframe tbody tr th:only-of-type {\n",
              "        vertical-align: middle;\n",
              "    }\n",
              "\n",
              "    .dataframe tbody tr th {\n",
              "        vertical-align: top;\n",
              "    }\n",
              "\n",
              "    .dataframe thead th {\n",
              "        text-align: right;\n",
              "    }\n",
              "</style>\n",
              "<table border=\"1\" class=\"dataframe\">\n",
              "  <thead>\n",
              "    <tr style=\"text-align: right;\">\n",
              "      <th></th>\n",
              "      <th>A</th>\n",
              "      <th>B</th>\n",
              "      <th>C</th>\n",
              "      <th>D</th>\n",
              "      <th>E</th>\n",
              "      <th>F</th>\n",
              "      <th>Y</th>\n",
              "    </tr>\n",
              "  </thead>\n",
              "  <tbody>\n",
              "    <tr>\n",
              "      <td>0</td>\n",
              "      <td>63.03</td>\n",
              "      <td>22.55</td>\n",
              "      <td>39.61</td>\n",
              "      <td>40.48</td>\n",
              "      <td>98.67</td>\n",
              "      <td>-0.25</td>\n",
              "      <td>AB</td>\n",
              "    </tr>\n",
              "    <tr>\n",
              "      <td>1</td>\n",
              "      <td>39.06</td>\n",
              "      <td>10.06</td>\n",
              "      <td>25.02</td>\n",
              "      <td>29.00</td>\n",
              "      <td>114.41</td>\n",
              "      <td>4.56</td>\n",
              "      <td>AB</td>\n",
              "    </tr>\n",
              "    <tr>\n",
              "      <td>2</td>\n",
              "      <td>68.83</td>\n",
              "      <td>22.22</td>\n",
              "      <td>50.09</td>\n",
              "      <td>46.61</td>\n",
              "      <td>105.99</td>\n",
              "      <td>-3.53</td>\n",
              "      <td>AB</td>\n",
              "    </tr>\n",
              "    <tr>\n",
              "      <td>3</td>\n",
              "      <td>69.30</td>\n",
              "      <td>24.65</td>\n",
              "      <td>44.31</td>\n",
              "      <td>44.64</td>\n",
              "      <td>101.87</td>\n",
              "      <td>11.21</td>\n",
              "      <td>AB</td>\n",
              "    </tr>\n",
              "    <tr>\n",
              "      <td>4</td>\n",
              "      <td>49.71</td>\n",
              "      <td>9.65</td>\n",
              "      <td>28.32</td>\n",
              "      <td>40.06</td>\n",
              "      <td>108.17</td>\n",
              "      <td>7.92</td>\n",
              "      <td>AB</td>\n",
              "    </tr>\n",
              "    <tr>\n",
              "      <td>...</td>\n",
              "      <td>...</td>\n",
              "      <td>...</td>\n",
              "      <td>...</td>\n",
              "      <td>...</td>\n",
              "      <td>...</td>\n",
              "      <td>...</td>\n",
              "      <td>...</td>\n",
              "    </tr>\n",
              "    <tr>\n",
              "      <td>305</td>\n",
              "      <td>47.90</td>\n",
              "      <td>13.62</td>\n",
              "      <td>36.00</td>\n",
              "      <td>34.29</td>\n",
              "      <td>117.45</td>\n",
              "      <td>-4.25</td>\n",
              "      <td>NO</td>\n",
              "    </tr>\n",
              "    <tr>\n",
              "      <td>306</td>\n",
              "      <td>53.94</td>\n",
              "      <td>20.72</td>\n",
              "      <td>29.22</td>\n",
              "      <td>33.22</td>\n",
              "      <td>114.37</td>\n",
              "      <td>-0.42</td>\n",
              "      <td>NO</td>\n",
              "    </tr>\n",
              "    <tr>\n",
              "      <td>307</td>\n",
              "      <td>61.45</td>\n",
              "      <td>22.69</td>\n",
              "      <td>46.17</td>\n",
              "      <td>38.75</td>\n",
              "      <td>125.67</td>\n",
              "      <td>-2.71</td>\n",
              "      <td>NO</td>\n",
              "    </tr>\n",
              "    <tr>\n",
              "      <td>308</td>\n",
              "      <td>45.25</td>\n",
              "      <td>8.69</td>\n",
              "      <td>41.58</td>\n",
              "      <td>36.56</td>\n",
              "      <td>118.55</td>\n",
              "      <td>0.21</td>\n",
              "      <td>NO</td>\n",
              "    </tr>\n",
              "    <tr>\n",
              "      <td>309</td>\n",
              "      <td>33.84</td>\n",
              "      <td>5.07</td>\n",
              "      <td>36.64</td>\n",
              "      <td>28.77</td>\n",
              "      <td>123.95</td>\n",
              "      <td>-0.20</td>\n",
              "      <td>NO</td>\n",
              "    </tr>\n",
              "  </tbody>\n",
              "</table>\n",
              "<p>310 rows × 7 columns</p>\n",
              "</div>"
            ],
            "text/plain": [
              "         A      B      C      D       E      F   Y\n",
              "0    63.03  22.55  39.61  40.48   98.67  -0.25  AB\n",
              "1    39.06  10.06  25.02  29.00  114.41   4.56  AB\n",
              "2    68.83  22.22  50.09  46.61  105.99  -3.53  AB\n",
              "3    69.30  24.65  44.31  44.64  101.87  11.21  AB\n",
              "4    49.71   9.65  28.32  40.06  108.17   7.92  AB\n",
              "..     ...    ...    ...    ...     ...    ...  ..\n",
              "305  47.90  13.62  36.00  34.29  117.45  -4.25  NO\n",
              "306  53.94  20.72  29.22  33.22  114.37  -0.42  NO\n",
              "307  61.45  22.69  46.17  38.75  125.67  -2.71  NO\n",
              "308  45.25   8.69  41.58  36.56  118.55   0.21  NO\n",
              "309  33.84   5.07  36.64  28.77  123.95  -0.20  NO\n",
              "\n",
              "[310 rows x 7 columns]"
            ]
          },
          "metadata": {
            "tags": []
          },
          "execution_count": 3
        }
      ]
    },
    {
      "cell_type": "markdown",
      "metadata": {
        "id": "ibfwDTXyU58K",
        "colab_type": "text"
      },
      "source": [
        "##Exploration and pre-processing\n",
        "### (b)i Make scatterplots of the independent variables in the dataset."
      ]
    },
    {
      "cell_type": "code",
      "metadata": {
        "id": "0luvdM1hU58L",
        "colab_type": "code",
        "colab": {},
        "outputId": "0d690b40-9164-437c-fc83-f602294ce418"
      },
      "source": [
        "# make scatterplots\n",
        "sns.pairplot(ds,vars=list('ABCDEF'),hue='Y')"
      ],
      "execution_count": null,
      "outputs": [
        {
          "output_type": "execute_result",
          "data": {
            "text/plain": [
              "<seaborn.axisgrid.PairGrid at 0x10f0b3c8>"
            ]
          },
          "metadata": {
            "tags": []
          },
          "execution_count": 4
        },
        {
          "output_type": "display_data",
          "data": {
            "image/png": "[encoded data removed]",
            "text/plain": [
              "<Figure size 1136.1x1080 with 42 Axes>"
            ]
          },
          "metadata": {
            "tags": [],
            "needs_background": "light"
          }
        }
      ]
    },
    {
      "cell_type": "markdown",
      "metadata": {
        "id": "Eb46QmvpU58O",
        "colab_type": "text"
      },
      "source": [
        "### (b)ii Make boxplots for each of the independent variables."
      ]
    },
    {
      "cell_type": "code",
      "metadata": {
        "id": "B869kCCZU58P",
        "colab_type": "code",
        "colab": {},
        "outputId": "321eb0c3-6193-4b3c-b0c7-02dccc0404d8"
      },
      "source": [
        "# make boxplots\n",
        "plt.figure(figsize=(12,9))\n",
        "for i in range(1,7):\n",
        "    plt.subplot(2,3,i)\n",
        "    sns.boxplot(x='Y',y='ABCDEF'[i-1],data=ds)"
      ],
      "execution_count": null,
      "outputs": [
        {
          "output_type": "display_data",
          "data": {
            "image/png": "[encoded data removed]",
            "text/plain": [
              "<Figure size 864x648 with 6 Axes>"
            ]
          },
          "metadata": {
            "tags": [],
            "needs_background": "light"
          }
        }
      ]
    },
    {
      "cell_type": "markdown",
      "metadata": {
        "id": "gZwQo62ZU58R",
        "colab_type": "text"
      },
      "source": [
        "### (b)iii"
      ]
    },
    {
      "cell_type": "code",
      "metadata": {
        "id": "-NpdG2SjU58S",
        "colab_type": "code",
        "colab": {}
      },
      "source": [
        "# pre-process\n",
        "## encode\n",
        "ds2 = ds.copy()\n",
        "ds2.Y = np.where(ds2.Y=='AB',1,0)"
      ],
      "execution_count": null,
      "outputs": []
    },
    {
      "cell_type": "code",
      "metadata": {
        "id": "3UIg38gyU58V",
        "colab_type": "code",
        "colab": {},
        "outputId": "ce2cea63-4446-4b83-d6e2-6cce105c95b6"
      },
      "source": [
        "ds2"
      ],
      "execution_count": null,
      "outputs": [
        {
          "output_type": "execute_result",
          "data": {
            "text/html": [
              "<div>\n",
              "<style scoped>\n",
              "    .dataframe tbody tr th:only-of-type {\n",
              "        vertical-align: middle;\n",
              "    }\n",
              "\n",
              "    .dataframe tbody tr th {\n",
              "        vertical-align: top;\n",
              "    }\n",
              "\n",
              "    .dataframe thead th {\n",
              "        text-align: right;\n",
              "    }\n",
              "</style>\n",
              "<table border=\"1\" class=\"dataframe\">\n",
              "  <thead>\n",
              "    <tr style=\"text-align: right;\">\n",
              "      <th></th>\n",
              "      <th>A</th>\n",
              "      <th>B</th>\n",
              "      <th>C</th>\n",
              "      <th>D</th>\n",
              "      <th>E</th>\n",
              "      <th>F</th>\n",
              "      <th>Y</th>\n",
              "    </tr>\n",
              "  </thead>\n",
              "  <tbody>\n",
              "    <tr>\n",
              "      <td>0</td>\n",
              "      <td>63.03</td>\n",
              "      <td>22.55</td>\n",
              "      <td>39.61</td>\n",
              "      <td>40.48</td>\n",
              "      <td>98.67</td>\n",
              "      <td>-0.25</td>\n",
              "      <td>1</td>\n",
              "    </tr>\n",
              "    <tr>\n",
              "      <td>1</td>\n",
              "      <td>39.06</td>\n",
              "      <td>10.06</td>\n",
              "      <td>25.02</td>\n",
              "      <td>29.00</td>\n",
              "      <td>114.41</td>\n",
              "      <td>4.56</td>\n",
              "      <td>1</td>\n",
              "    </tr>\n",
              "    <tr>\n",
              "      <td>2</td>\n",
              "      <td>68.83</td>\n",
              "      <td>22.22</td>\n",
              "      <td>50.09</td>\n",
              "      <td>46.61</td>\n",
              "      <td>105.99</td>\n",
              "      <td>-3.53</td>\n",
              "      <td>1</td>\n",
              "    </tr>\n",
              "    <tr>\n",
              "      <td>3</td>\n",
              "      <td>69.30</td>\n",
              "      <td>24.65</td>\n",
              "      <td>44.31</td>\n",
              "      <td>44.64</td>\n",
              "      <td>101.87</td>\n",
              "      <td>11.21</td>\n",
              "      <td>1</td>\n",
              "    </tr>\n",
              "    <tr>\n",
              "      <td>4</td>\n",
              "      <td>49.71</td>\n",
              "      <td>9.65</td>\n",
              "      <td>28.32</td>\n",
              "      <td>40.06</td>\n",
              "      <td>108.17</td>\n",
              "      <td>7.92</td>\n",
              "      <td>1</td>\n",
              "    </tr>\n",
              "    <tr>\n",
              "      <td>...</td>\n",
              "      <td>...</td>\n",
              "      <td>...</td>\n",
              "      <td>...</td>\n",
              "      <td>...</td>\n",
              "      <td>...</td>\n",
              "      <td>...</td>\n",
              "      <td>...</td>\n",
              "    </tr>\n",
              "    <tr>\n",
              "      <td>305</td>\n",
              "      <td>47.90</td>\n",
              "      <td>13.62</td>\n",
              "      <td>36.00</td>\n",
              "      <td>34.29</td>\n",
              "      <td>117.45</td>\n",
              "      <td>-4.25</td>\n",
              "      <td>0</td>\n",
              "    </tr>\n",
              "    <tr>\n",
              "      <td>306</td>\n",
              "      <td>53.94</td>\n",
              "      <td>20.72</td>\n",
              "      <td>29.22</td>\n",
              "      <td>33.22</td>\n",
              "      <td>114.37</td>\n",
              "      <td>-0.42</td>\n",
              "      <td>0</td>\n",
              "    </tr>\n",
              "    <tr>\n",
              "      <td>307</td>\n",
              "      <td>61.45</td>\n",
              "      <td>22.69</td>\n",
              "      <td>46.17</td>\n",
              "      <td>38.75</td>\n",
              "      <td>125.67</td>\n",
              "      <td>-2.71</td>\n",
              "      <td>0</td>\n",
              "    </tr>\n",
              "    <tr>\n",
              "      <td>308</td>\n",
              "      <td>45.25</td>\n",
              "      <td>8.69</td>\n",
              "      <td>41.58</td>\n",
              "      <td>36.56</td>\n",
              "      <td>118.55</td>\n",
              "      <td>0.21</td>\n",
              "      <td>0</td>\n",
              "    </tr>\n",
              "    <tr>\n",
              "      <td>309</td>\n",
              "      <td>33.84</td>\n",
              "      <td>5.07</td>\n",
              "      <td>36.64</td>\n",
              "      <td>28.77</td>\n",
              "      <td>123.95</td>\n",
              "      <td>-0.20</td>\n",
              "      <td>0</td>\n",
              "    </tr>\n",
              "  </tbody>\n",
              "</table>\n",
              "<p>310 rows × 7 columns</p>\n",
              "</div>"
            ],
            "text/plain": [
              "         A      B      C      D       E      F  Y\n",
              "0    63.03  22.55  39.61  40.48   98.67  -0.25  1\n",
              "1    39.06  10.06  25.02  29.00  114.41   4.56  1\n",
              "2    68.83  22.22  50.09  46.61  105.99  -3.53  1\n",
              "3    69.30  24.65  44.31  44.64  101.87  11.21  1\n",
              "4    49.71   9.65  28.32  40.06  108.17   7.92  1\n",
              "..     ...    ...    ...    ...     ...    ... ..\n",
              "305  47.90  13.62  36.00  34.29  117.45  -4.25  0\n",
              "306  53.94  20.72  29.22  33.22  114.37  -0.42  0\n",
              "307  61.45  22.69  46.17  38.75  125.67  -2.71  0\n",
              "308  45.25   8.69  41.58  36.56  118.55   0.21  0\n",
              "309  33.84   5.07  36.64  28.77  123.95  -0.20  0\n",
              "\n",
              "[310 rows x 7 columns]"
            ]
          },
          "metadata": {
            "tags": []
          },
          "execution_count": 7
        }
      ]
    },
    {
      "cell_type": "code",
      "metadata": {
        "id": "5ByQ6mKBU58X",
        "colab_type": "code",
        "colab": {}
      },
      "source": [
        "## split data\n",
        "NO = ds2[ds2.Y == 0]\n",
        "AB = ds2[ds2.Y == 1]\n",
        "tr = pd.concat([NO[:70],AB[:140]])\n",
        "te = pd.concat([NO[70:],AB[140:]])\n",
        "tr_x = tr[list('ABCDEF')]\n",
        "tr_y = tr['Y']\n",
        "te_x = te[list('ABCDEF')]\n",
        "te_y = te['Y']"
      ],
      "execution_count": null,
      "outputs": []
    },
    {
      "cell_type": "code",
      "metadata": {
        "id": "It6xgfETU58Z",
        "colab_type": "code",
        "colab": {},
        "outputId": "c2ace457-7e95-438f-a907-df9da1252a1d"
      },
      "source": [
        "tr_x"
      ],
      "execution_count": null,
      "outputs": [
        {
          "output_type": "execute_result",
          "data": {
            "text/html": [
              "<div>\n",
              "<style scoped>\n",
              "    .dataframe tbody tr th:only-of-type {\n",
              "        vertical-align: middle;\n",
              "    }\n",
              "\n",
              "    .dataframe tbody tr th {\n",
              "        vertical-align: top;\n",
              "    }\n",
              "\n",
              "    .dataframe thead th {\n",
              "        text-align: right;\n",
              "    }\n",
              "</style>\n",
              "<table border=\"1\" class=\"dataframe\">\n",
              "  <thead>\n",
              "    <tr style=\"text-align: right;\">\n",
              "      <th></th>\n",
              "      <th>A</th>\n",
              "      <th>B</th>\n",
              "      <th>C</th>\n",
              "      <th>D</th>\n",
              "      <th>E</th>\n",
              "      <th>F</th>\n",
              "    </tr>\n",
              "  </thead>\n",
              "  <tbody>\n",
              "    <tr>\n",
              "      <td>210</td>\n",
              "      <td>38.51</td>\n",
              "      <td>16.96</td>\n",
              "      <td>35.11</td>\n",
              "      <td>21.54</td>\n",
              "      <td>127.63</td>\n",
              "      <td>7.99</td>\n",
              "    </tr>\n",
              "    <tr>\n",
              "      <td>211</td>\n",
              "      <td>54.92</td>\n",
              "      <td>18.97</td>\n",
              "      <td>51.60</td>\n",
              "      <td>35.95</td>\n",
              "      <td>125.85</td>\n",
              "      <td>2.00</td>\n",
              "    </tr>\n",
              "    <tr>\n",
              "      <td>212</td>\n",
              "      <td>44.36</td>\n",
              "      <td>8.95</td>\n",
              "      <td>46.90</td>\n",
              "      <td>35.42</td>\n",
              "      <td>129.22</td>\n",
              "      <td>4.99</td>\n",
              "    </tr>\n",
              "    <tr>\n",
              "      <td>213</td>\n",
              "      <td>48.32</td>\n",
              "      <td>17.45</td>\n",
              "      <td>48.00</td>\n",
              "      <td>30.87</td>\n",
              "      <td>128.98</td>\n",
              "      <td>-0.91</td>\n",
              "    </tr>\n",
              "    <tr>\n",
              "      <td>214</td>\n",
              "      <td>45.70</td>\n",
              "      <td>10.66</td>\n",
              "      <td>42.58</td>\n",
              "      <td>35.04</td>\n",
              "      <td>130.18</td>\n",
              "      <td>-3.39</td>\n",
              "    </tr>\n",
              "    <tr>\n",
              "      <td>...</td>\n",
              "      <td>...</td>\n",
              "      <td>...</td>\n",
              "      <td>...</td>\n",
              "      <td>...</td>\n",
              "      <td>...</td>\n",
              "      <td>...</td>\n",
              "    </tr>\n",
              "    <tr>\n",
              "      <td>135</td>\n",
              "      <td>77.12</td>\n",
              "      <td>30.35</td>\n",
              "      <td>77.48</td>\n",
              "      <td>46.77</td>\n",
              "      <td>110.61</td>\n",
              "      <td>82.09</td>\n",
              "    </tr>\n",
              "    <tr>\n",
              "      <td>136</td>\n",
              "      <td>88.02</td>\n",
              "      <td>39.84</td>\n",
              "      <td>81.77</td>\n",
              "      <td>48.18</td>\n",
              "      <td>116.60</td>\n",
              "      <td>56.77</td>\n",
              "    </tr>\n",
              "    <tr>\n",
              "      <td>137</td>\n",
              "      <td>83.40</td>\n",
              "      <td>34.31</td>\n",
              "      <td>78.42</td>\n",
              "      <td>49.09</td>\n",
              "      <td>110.47</td>\n",
              "      <td>49.67</td>\n",
              "    </tr>\n",
              "    <tr>\n",
              "      <td>138</td>\n",
              "      <td>72.05</td>\n",
              "      <td>24.70</td>\n",
              "      <td>79.87</td>\n",
              "      <td>47.35</td>\n",
              "      <td>107.17</td>\n",
              "      <td>56.43</td>\n",
              "    </tr>\n",
              "    <tr>\n",
              "      <td>139</td>\n",
              "      <td>85.10</td>\n",
              "      <td>21.07</td>\n",
              "      <td>91.73</td>\n",
              "      <td>64.03</td>\n",
              "      <td>109.06</td>\n",
              "      <td>38.03</td>\n",
              "    </tr>\n",
              "  </tbody>\n",
              "</table>\n",
              "<p>210 rows × 6 columns</p>\n",
              "</div>"
            ],
            "text/plain": [
              "         A      B      C      D       E      F\n",
              "210  38.51  16.96  35.11  21.54  127.63   7.99\n",
              "211  54.92  18.97  51.60  35.95  125.85   2.00\n",
              "212  44.36   8.95  46.90  35.42  129.22   4.99\n",
              "213  48.32  17.45  48.00  30.87  128.98  -0.91\n",
              "214  45.70  10.66  42.58  35.04  130.18  -3.39\n",
              "..     ...    ...    ...    ...     ...    ...\n",
              "135  77.12  30.35  77.48  46.77  110.61  82.09\n",
              "136  88.02  39.84  81.77  48.18  116.60  56.77\n",
              "137  83.40  34.31  78.42  49.09  110.47  49.67\n",
              "138  72.05  24.70  79.87  47.35  107.17  56.43\n",
              "139  85.10  21.07  91.73  64.03  109.06  38.03\n",
              "\n",
              "[210 rows x 6 columns]"
            ]
          },
          "metadata": {
            "tags": []
          },
          "execution_count": 9
        }
      ]
    },
    {
      "cell_type": "code",
      "metadata": {
        "id": "87g5rhe_U58b",
        "colab_type": "code",
        "colab": {},
        "outputId": "5609e306-a4d4-4a05-d57d-2355d0dda2ab"
      },
      "source": [
        "te_y"
      ],
      "execution_count": null,
      "outputs": [
        {
          "output_type": "execute_result",
          "data": {
            "text/plain": [
              "280    0\n",
              "281    0\n",
              "282    0\n",
              "283    0\n",
              "284    0\n",
              "      ..\n",
              "205    1\n",
              "206    1\n",
              "207    1\n",
              "208    1\n",
              "209    1\n",
              "Name: Y, Length: 100, dtype: int32"
            ]
          },
          "metadata": {
            "tags": []
          },
          "execution_count": 10
        }
      ]
    },
    {
      "cell_type": "markdown",
      "metadata": {
        "id": "X7GMVNQyU58d",
        "colab_type": "text"
      },
      "source": [
        "## Build, train the KNN model\n",
        "(c)i"
      ]
    },
    {
      "cell_type": "code",
      "metadata": {
        "id": "NwCxSmhPU58d",
        "colab_type": "code",
        "colab": {},
        "outputId": "8318047d-59af-4fdd-cb97-d77102a4108d"
      },
      "source": [
        "# build a knn model and train it with training data\n",
        "knn = neighbors.KNeighborsClassifier(metric='euclidean')\n",
        "knn.fit(tr_x,tr_y)"
      ],
      "execution_count": null,
      "outputs": [
        {
          "output_type": "execute_result",
          "data": {
            "text/plain": [
              "KNeighborsClassifier(algorithm='auto', leaf_size=30, metric='euclidean',\n",
              "                     metric_params=None, n_jobs=None, n_neighbors=5, p=2,\n",
              "                     weights='uniform')"
            ]
          },
          "metadata": {
            "tags": []
          },
          "execution_count": 11
        }
      ]
    },
    {
      "cell_type": "markdown",
      "metadata": {
        "id": "yfj5mKo0U58h",
        "colab_type": "text"
      },
      "source": [
        "##Evaluate the model\n",
        "### (c)ii"
      ]
    },
    {
      "cell_type": "code",
      "metadata": {
        "id": "N5RT31FlU58h",
        "colab_type": "code",
        "colab": {}
      },
      "source": [
        "# test the model with testing data\n",
        "pre_te = knn.predict(te_x)"
      ],
      "execution_count": null,
      "outputs": []
    },
    {
      "cell_type": "code",
      "metadata": {
        "id": "kjmTLEkLU58k",
        "colab_type": "code",
        "colab": {},
        "outputId": "ea348a84-a4d5-440f-ecba-82f841a0a18f"
      },
      "source": [
        "pre_te"
      ],
      "execution_count": null,
      "outputs": [
        {
          "output_type": "execute_result",
          "data": {
            "text/plain": [
              "array([1, 0, 0, 0, 0, 0, 0, 1, 0, 0, 1, 1, 0, 0, 0, 0, 1, 1, 0, 1, 0, 0,\n",
              "       1, 0, 0, 1, 1, 0, 0, 0, 1, 1, 1, 1, 1, 1, 1, 1, 1, 1, 1, 1, 1, 1,\n",
              "       1, 1, 1, 1, 1, 1, 1, 1, 1, 1, 1, 1, 1, 1, 1, 1, 1, 1, 1, 1, 1, 1,\n",
              "       1, 1, 1, 1, 1, 1, 1, 1, 1, 1, 1, 1, 1, 1, 1, 1, 1, 1, 1, 1, 1, 1,\n",
              "       1, 1, 1, 1, 1, 1, 1, 1, 1, 1, 1, 1])"
            ]
          },
          "metadata": {
            "tags": []
          },
          "execution_count": 13
        }
      ]
    },
    {
      "cell_type": "code",
      "metadata": {
        "id": "0ZpxD4xIU58m",
        "colab_type": "code",
        "colab": {},
        "outputId": "3aab746d-cf14-4cd5-f9c1-927531604998"
      },
      "source": [
        "# plot train and test error in terms of k\n",
        "tr_err,te_err = [],[]\n",
        "k = np.arange(208,0,-3)\n",
        "for i in k:\n",
        "    knn = neighbors.KNeighborsClassifier(n_neighbors=i,metric='euclidean')\n",
        "    knn.fit(tr_x,tr_y)\n",
        "    tr_err.append(1-knn.score(tr_x,tr_y))\n",
        "    te_err.append(1-knn.score(te_x,te_y))\n",
        "plt.plot(k,tr_err,'b',label = 'Train Errors') \n",
        "plt.plot(k,te_err,'r',label = 'Test Errors')\n",
        "plt.legend()\n",
        "plt.xlabel('Number of K')\n",
        "plt.ylabel('Error Rate')"
      ],
      "execution_count": null,
      "outputs": [
        {
          "output_type": "execute_result",
          "data": {
            "text/plain": [
              "Text(0, 0.5, 'Error Rate')"
            ]
          },
          "metadata": {
            "tags": []
          },
          "execution_count": 14
        },
        {
          "output_type": "display_data",
          "data": {
            "image/png": "[encoded data removed]",
            "text/plain": [
              "<Figure size 432x288 with 1 Axes>"
            ]
          },
          "metadata": {
            "tags": [],
            "needs_background": "light"
          }
        }
      ]
    },
    {
      "cell_type": "code",
      "metadata": {
        "id": "PViyJ8ETU58o",
        "colab_type": "code",
        "colab": {},
        "outputId": "c033b1e3-028d-4990-fd12-76e3187a15ba"
      },
      "source": [
        "# find the k when test error rate is the lowest\n",
        "k[te_err.index(min(te_err))]"
      ],
      "execution_count": null,
      "outputs": [
        {
          "output_type": "execute_result",
          "data": {
            "text/plain": [
              "4"
            ]
          },
          "metadata": {
            "tags": []
          },
          "execution_count": 15
        }
      ]
    },
    {
      "cell_type": "code",
      "metadata": {
        "id": "w1rfStzwU58p",
        "colab_type": "code",
        "colab": {},
        "outputId": "5452ea3e-f875-4d92-d296-106f843e28c4"
      },
      "source": [
        "# find the lowest train error rate\n",
        "min(tr_err[:69])"
      ],
      "execution_count": null,
      "outputs": [
        {
          "output_type": "execute_result",
          "data": {
            "text/plain": [
              "0.1333333333333333"
            ]
          },
          "metadata": {
            "tags": []
          },
          "execution_count": 16
        }
      ]
    },
    {
      "cell_type": "markdown",
      "metadata": {
        "id": "yGmJim5bU58r",
        "colab_type": "text"
      },
      "source": [
        "#### **Answer1**"
      ]
    },
    {
      "cell_type": "markdown",
      "metadata": {
        "id": "0F-rQekcU58s",
        "colab_type": "text"
      },
      "source": [
        "The most suitable k is k=4, because the test error is the lowest when obtained from the KNN model with 4 nearest neighbors, which means the model performs well in predicting for the high accuracy. And the train error rate is not the lowest when k=4, which means the model is less overfitting.\n",
        "When k is less than 4, the train error is zero when k =1 but the test error is high which means the model is overfitting. It fits to the noise in training data and fail to generalize. When k is more than 4, the train error and test error are both high which the accuracy is low."
      ]
    },
    {
      "cell_type": "code",
      "metadata": {
        "id": "AtW8YdOdU58t",
        "colab_type": "code",
        "colab": {}
      },
      "source": [
        "# when k = 4: \n",
        "knn = neighbors.KNeighborsClassifier(n_neighbors=4,metric='euclidean')\n",
        "knn.fit(tr_x,tr_y)\n",
        "pre_te = knn.predict(te_x)"
      ],
      "execution_count": null,
      "outputs": []
    },
    {
      "cell_type": "code",
      "metadata": {
        "id": "UyLGx8F3U58u",
        "colab_type": "code",
        "colab": {}
      },
      "source": [
        "# calculate confusion matrix\n",
        "cm = confusion_matrix(te_y,pre_te)"
      ],
      "execution_count": null,
      "outputs": []
    },
    {
      "cell_type": "code",
      "metadata": {
        "id": "7VLXhE0wU58w",
        "colab_type": "code",
        "colab": {},
        "outputId": "dfe5eddd-db53-4546-95cd-738b420e6132"
      },
      "source": [
        "pd.DataFrame(cm)"
      ],
      "execution_count": null,
      "outputs": [
        {
          "output_type": "execute_result",
          "data": {
            "text/html": [
              "<div>\n",
              "<style scoped>\n",
              "    .dataframe tbody tr th:only-of-type {\n",
              "        vertical-align: middle;\n",
              "    }\n",
              "\n",
              "    .dataframe tbody tr th {\n",
              "        vertical-align: top;\n",
              "    }\n",
              "\n",
              "    .dataframe thead th {\n",
              "        text-align: right;\n",
              "    }\n",
              "</style>\n",
              "<table border=\"1\" class=\"dataframe\">\n",
              "  <thead>\n",
              "    <tr style=\"text-align: right;\">\n",
              "      <th></th>\n",
              "      <th>0</th>\n",
              "      <th>1</th>\n",
              "    </tr>\n",
              "  </thead>\n",
              "  <tbody>\n",
              "    <tr>\n",
              "      <td>0</td>\n",
              "      <td>25</td>\n",
              "      <td>5</td>\n",
              "    </tr>\n",
              "    <tr>\n",
              "      <td>1</td>\n",
              "      <td>1</td>\n",
              "      <td>69</td>\n",
              "    </tr>\n",
              "  </tbody>\n",
              "</table>\n",
              "</div>"
            ],
            "text/plain": [
              "    0   1\n",
              "0  25   5\n",
              "1   1  69"
            ]
          },
          "metadata": {
            "tags": []
          },
          "execution_count": 19
        }
      ]
    },
    {
      "cell_type": "code",
      "metadata": {
        "id": "fSlrLRwOU58y",
        "colab_type": "code",
        "colab": {}
      },
      "source": [
        "# calculate  true positive rate, true negative rate\n",
        "tpr = cm[0,0]/(cm[0,0]+cm[0,1])\n",
        "tnr = cm[1,1]/(cm[1,0]+cm[1,1])"
      ],
      "execution_count": null,
      "outputs": []
    },
    {
      "cell_type": "code",
      "metadata": {
        "id": "BbUoIzgdU580",
        "colab_type": "code",
        "colab": {},
        "outputId": "63547dad-cd93-441a-8e28-547e9bf816ac"
      },
      "source": [
        "tpr"
      ],
      "execution_count": null,
      "outputs": [
        {
          "output_type": "execute_result",
          "data": {
            "text/plain": [
              "0.8333333333333334"
            ]
          },
          "metadata": {
            "tags": []
          },
          "execution_count": 21
        }
      ]
    },
    {
      "cell_type": "code",
      "metadata": {
        "id": "0fYmK8H7U582",
        "colab_type": "code",
        "colab": {},
        "outputId": "28b0bcbf-4fa3-4962-f58b-7a2e0d33438e"
      },
      "source": [
        "tnr"
      ],
      "execution_count": null,
      "outputs": [
        {
          "output_type": "execute_result",
          "data": {
            "text/plain": [
              "0.9857142857142858"
            ]
          },
          "metadata": {
            "tags": []
          },
          "execution_count": 22
        }
      ]
    },
    {
      "cell_type": "code",
      "metadata": {
        "id": "s2BVUdSXU584",
        "colab_type": "code",
        "colab": {},
        "outputId": "4c070d71-5b98-4d51-81b1-d6b4842f3d1c"
      },
      "source": [
        "# calculate precision, F-score\n",
        "print(classification_report(te_y,pre_te))"
      ],
      "execution_count": null,
      "outputs": [
        {
          "output_type": "stream",
          "text": [
            "              precision    recall  f1-score   support\n",
            "\n",
            "           0       0.96      0.83      0.89        30\n",
            "           1       0.93      0.99      0.96        70\n",
            "\n",
            "    accuracy                           0.94       100\n",
            "   macro avg       0.95      0.91      0.93       100\n",
            "weighted avg       0.94      0.94      0.94       100\n",
            "\n"
          ],
          "name": "stdout"
        }
      ]
    },
    {
      "cell_type": "markdown",
      "metadata": {
        "id": "y8nwoLyYU587",
        "colab_type": "text"
      },
      "source": [
        "##Model selection\n",
        "### (c)iii"
      ]
    },
    {
      "cell_type": "code",
      "metadata": {
        "id": "NVAKASS8U587",
        "colab_type": "code",
        "colab": {},
        "outputId": "a50dee0a-2efe-46bb-b186-d48ef2d55208"
      },
      "source": [
        "#plot the best test error rate for different size of training set in terms of k\n",
        "btr_err,bte_err = [],[]\n",
        "n = np.arange(10,211,10)\n",
        "for i in n:\n",
        "    tr_sub = pd.concat([NO[:int(i/3)],AB[:i-int(i/3)]])\n",
        "    tr_sx = tr_sub[list('ABCDEF')]\n",
        "    tr_sy = tr_sub['Y']\n",
        "    tr_err,te_err = [],[]\n",
        "    for j in range(1,i+1,5):\n",
        "        knn = neighbors.KNeighborsClassifier(n_neighbors=j,metric='euclidean')\n",
        "        knn.fit(tr_sx,tr_sy)\n",
        "        tr_err.append(1-knn.score(tr_sx,tr_sy))\n",
        "        te_err.append(1-knn.score(te_x,te_y))\n",
        "    btr_err.append(min(tr_err[1:]))\n",
        "    bte_err.append(min(te_err))\n",
        "plt.plot(n,bte_err)\n",
        "plt.xlabel('Size of Training Dataset')\n",
        "plt.ylabel('Best Test Error Rate')"
      ],
      "execution_count": null,
      "outputs": [
        {
          "output_type": "execute_result",
          "data": {
            "text/plain": [
              "Text(0, 0.5, 'Best Test Error Rate')"
            ]
          },
          "metadata": {
            "tags": []
          },
          "execution_count": 24
        },
        {
          "output_type": "display_data",
          "data": {
            "image/png": "[encoded data removed]",
            "text/plain": [
              "<Figure size 432x288 with 1 Axes>"
            ]
          },
          "metadata": {
            "tags": [],
            "needs_background": "light"
          }
        }
      ]
    },
    {
      "cell_type": "code",
      "metadata": {
        "id": "nVoQtNMiU588",
        "colab_type": "code",
        "colab": {},
        "outputId": "f311c4e1-3da6-436d-84cb-083139db40cf"
      },
      "source": [
        "# find the lowest train error rate\n",
        "min(btr_err)"
      ],
      "execution_count": null,
      "outputs": [
        {
          "output_type": "execute_result",
          "data": {
            "text/plain": [
              "0.09999999999999998"
            ]
          },
          "metadata": {
            "tags": []
          },
          "execution_count": 25
        }
      ]
    },
    {
      "cell_type": "markdown",
      "metadata": {
        "id": "TxgLO0zsU58-",
        "colab_type": "text"
      },
      "source": [
        "### (d)i"
      ]
    },
    {
      "cell_type": "code",
      "metadata": {
        "id": "19NvF5hbU58_",
        "colab_type": "code",
        "colab": {}
      },
      "source": [
        "# train a knn model with Minkowski metric and test it in terms of k\n",
        "tr_err,te_err = [],[]\n",
        "k = np.arange(1,197,5)\n",
        "for i in k:\n",
        "    knn = neighbors.KNeighborsClassifier(n_neighbors=i,metric='minkowski')\n",
        "    knn.fit(tr_x,tr_y)\n",
        "    tr_err.append(1-knn.score(tr_x,tr_y))\n",
        "    te_err.append(1-knn.score(te_x,te_y))\n",
        "#summarize the test errors in a table\n",
        "te_err_tab = pd.DataFrame([k,te_err],index=['k','test errors'])"
      ],
      "execution_count": null,
      "outputs": []
    },
    {
      "cell_type": "code",
      "metadata": {
        "id": "VHlrQIBeU59A",
        "colab_type": "code",
        "colab": {},
        "outputId": "37a28edc-0f47-42af-dc5a-e2140272fb1a"
      },
      "source": [
        "pd.set_option('display.max_columns', 50)\n",
        "te_err_tab"
      ],
      "execution_count": null,
      "outputs": [
        {
          "output_type": "execute_result",
          "data": {
            "text/html": [
              "<div>\n",
              "<style scoped>\n",
              "    .dataframe tbody tr th:only-of-type {\n",
              "        vertical-align: middle;\n",
              "    }\n",
              "\n",
              "    .dataframe tbody tr th {\n",
              "        vertical-align: top;\n",
              "    }\n",
              "\n",
              "    .dataframe thead th {\n",
              "        text-align: right;\n",
              "    }\n",
              "</style>\n",
              "<table border=\"1\" class=\"dataframe\">\n",
              "  <thead>\n",
              "    <tr style=\"text-align: right;\">\n",
              "      <th></th>\n",
              "      <th>0</th>\n",
              "      <th>1</th>\n",
              "      <th>2</th>\n",
              "      <th>3</th>\n",
              "      <th>4</th>\n",
              "      <th>5</th>\n",
              "      <th>6</th>\n",
              "      <th>7</th>\n",
              "      <th>8</th>\n",
              "      <th>9</th>\n",
              "      <th>10</th>\n",
              "      <th>11</th>\n",
              "      <th>12</th>\n",
              "      <th>13</th>\n",
              "      <th>14</th>\n",
              "      <th>15</th>\n",
              "      <th>16</th>\n",
              "      <th>17</th>\n",
              "      <th>18</th>\n",
              "      <th>19</th>\n",
              "      <th>20</th>\n",
              "      <th>21</th>\n",
              "      <th>22</th>\n",
              "      <th>23</th>\n",
              "      <th>24</th>\n",
              "      <th>25</th>\n",
              "      <th>26</th>\n",
              "      <th>27</th>\n",
              "      <th>28</th>\n",
              "      <th>29</th>\n",
              "      <th>30</th>\n",
              "      <th>31</th>\n",
              "      <th>32</th>\n",
              "      <th>33</th>\n",
              "      <th>34</th>\n",
              "      <th>35</th>\n",
              "      <th>36</th>\n",
              "      <th>37</th>\n",
              "      <th>38</th>\n",
              "      <th>39</th>\n",
              "    </tr>\n",
              "  </thead>\n",
              "  <tbody>\n",
              "    <tr>\n",
              "      <td>k</td>\n",
              "      <td>1.00</td>\n",
              "      <td>6.00</td>\n",
              "      <td>11.00</td>\n",
              "      <td>16.00</td>\n",
              "      <td>21.0</td>\n",
              "      <td>26.00</td>\n",
              "      <td>31.00</td>\n",
              "      <td>36.00</td>\n",
              "      <td>41.00</td>\n",
              "      <td>46.00</td>\n",
              "      <td>51.00</td>\n",
              "      <td>56.00</td>\n",
              "      <td>61.00</td>\n",
              "      <td>66.00</td>\n",
              "      <td>71.00</td>\n",
              "      <td>76.00</td>\n",
              "      <td>81.00</td>\n",
              "      <td>86.00</td>\n",
              "      <td>91.00</td>\n",
              "      <td>96.00</td>\n",
              "      <td>101.00</td>\n",
              "      <td>106.00</td>\n",
              "      <td>111.00</td>\n",
              "      <td>116.00</td>\n",
              "      <td>121.00</td>\n",
              "      <td>126.00</td>\n",
              "      <td>131.00</td>\n",
              "      <td>136.00</td>\n",
              "      <td>141.0</td>\n",
              "      <td>146.0</td>\n",
              "      <td>151.0</td>\n",
              "      <td>156.0</td>\n",
              "      <td>161.0</td>\n",
              "      <td>166.0</td>\n",
              "      <td>171.0</td>\n",
              "      <td>176.0</td>\n",
              "      <td>181.0</td>\n",
              "      <td>186.0</td>\n",
              "      <td>191.0</td>\n",
              "      <td>196.0</td>\n",
              "    </tr>\n",
              "    <tr>\n",
              "      <td>test errors</td>\n",
              "      <td>0.13</td>\n",
              "      <td>0.08</td>\n",
              "      <td>0.12</td>\n",
              "      <td>0.09</td>\n",
              "      <td>0.1</td>\n",
              "      <td>0.11</td>\n",
              "      <td>0.11</td>\n",
              "      <td>0.11</td>\n",
              "      <td>0.11</td>\n",
              "      <td>0.12</td>\n",
              "      <td>0.11</td>\n",
              "      <td>0.12</td>\n",
              "      <td>0.12</td>\n",
              "      <td>0.13</td>\n",
              "      <td>0.13</td>\n",
              "      <td>0.12</td>\n",
              "      <td>0.13</td>\n",
              "      <td>0.16</td>\n",
              "      <td>0.16</td>\n",
              "      <td>0.15</td>\n",
              "      <td>0.17</td>\n",
              "      <td>0.14</td>\n",
              "      <td>0.17</td>\n",
              "      <td>0.18</td>\n",
              "      <td>0.22</td>\n",
              "      <td>0.21</td>\n",
              "      <td>0.26</td>\n",
              "      <td>0.28</td>\n",
              "      <td>0.3</td>\n",
              "      <td>0.3</td>\n",
              "      <td>0.3</td>\n",
              "      <td>0.3</td>\n",
              "      <td>0.3</td>\n",
              "      <td>0.3</td>\n",
              "      <td>0.3</td>\n",
              "      <td>0.3</td>\n",
              "      <td>0.3</td>\n",
              "      <td>0.3</td>\n",
              "      <td>0.3</td>\n",
              "      <td>0.3</td>\n",
              "    </tr>\n",
              "  </tbody>\n",
              "</table>\n",
              "</div>"
            ],
            "text/plain": [
              "                0     1      2      3     4      5      6      7      8  \\\n",
              "k            1.00  6.00  11.00  16.00  21.0  26.00  31.00  36.00  41.00   \n",
              "test errors  0.13  0.08   0.12   0.09   0.1   0.11   0.11   0.11   0.11   \n",
              "\n",
              "                 9     10     11     12     13     14     15     16     17  \\\n",
              "k            46.00  51.00  56.00  61.00  66.00  71.00  76.00  81.00  86.00   \n",
              "test errors   0.12   0.11   0.12   0.12   0.13   0.13   0.12   0.13   0.16   \n",
              "\n",
              "                18     19      20      21      22      23      24      25  \\\n",
              "k            91.00  96.00  101.00  106.00  111.00  116.00  121.00  126.00   \n",
              "test errors   0.16   0.15    0.17    0.14    0.17    0.18    0.22    0.21   \n",
              "\n",
              "                 26      27     28     29     30     31     32     33     34  \\\n",
              "k            131.00  136.00  141.0  146.0  151.0  156.0  161.0  166.0  171.0   \n",
              "test errors    0.26    0.28    0.3    0.3    0.3    0.3    0.3    0.3    0.3   \n",
              "\n",
              "                35     36     37     38     39  \n",
              "k            176.0  181.0  186.0  191.0  196.0  \n",
              "test errors    0.3    0.3    0.3    0.3    0.3  "
            ]
          },
          "metadata": {
            "tags": []
          },
          "execution_count": 27
        }
      ]
    },
    {
      "cell_type": "code",
      "metadata": {
        "id": "gOFSQEibU59C",
        "colab_type": "code",
        "colab": {},
        "outputId": "1f7179a0-c629-4944-dca5-265747dd2497"
      },
      "source": [
        "# find the lowest test error rate\n",
        "te_err_tab[te_err_tab == min(te_err)]"
      ],
      "execution_count": null,
      "outputs": [
        {
          "output_type": "execute_result",
          "data": {
            "text/html": [
              "<div>\n",
              "<style scoped>\n",
              "    .dataframe tbody tr th:only-of-type {\n",
              "        vertical-align: middle;\n",
              "    }\n",
              "\n",
              "    .dataframe tbody tr th {\n",
              "        vertical-align: top;\n",
              "    }\n",
              "\n",
              "    .dataframe thead th {\n",
              "        text-align: right;\n",
              "    }\n",
              "</style>\n",
              "<table border=\"1\" class=\"dataframe\">\n",
              "  <thead>\n",
              "    <tr style=\"text-align: right;\">\n",
              "      <th></th>\n",
              "      <th>0</th>\n",
              "      <th>1</th>\n",
              "      <th>2</th>\n",
              "      <th>3</th>\n",
              "      <th>4</th>\n",
              "      <th>5</th>\n",
              "      <th>6</th>\n",
              "      <th>7</th>\n",
              "      <th>8</th>\n",
              "      <th>9</th>\n",
              "      <th>10</th>\n",
              "      <th>11</th>\n",
              "      <th>12</th>\n",
              "      <th>13</th>\n",
              "      <th>14</th>\n",
              "      <th>15</th>\n",
              "      <th>16</th>\n",
              "      <th>17</th>\n",
              "      <th>18</th>\n",
              "      <th>19</th>\n",
              "      <th>20</th>\n",
              "      <th>21</th>\n",
              "      <th>22</th>\n",
              "      <th>23</th>\n",
              "      <th>24</th>\n",
              "      <th>25</th>\n",
              "      <th>26</th>\n",
              "      <th>27</th>\n",
              "      <th>28</th>\n",
              "      <th>29</th>\n",
              "      <th>30</th>\n",
              "      <th>31</th>\n",
              "      <th>32</th>\n",
              "      <th>33</th>\n",
              "      <th>34</th>\n",
              "      <th>35</th>\n",
              "      <th>36</th>\n",
              "      <th>37</th>\n",
              "      <th>38</th>\n",
              "      <th>39</th>\n",
              "    </tr>\n",
              "  </thead>\n",
              "  <tbody>\n",
              "    <tr>\n",
              "      <td>k</td>\n",
              "      <td>NaN</td>\n",
              "      <td>NaN</td>\n",
              "      <td>NaN</td>\n",
              "      <td>NaN</td>\n",
              "      <td>NaN</td>\n",
              "      <td>NaN</td>\n",
              "      <td>NaN</td>\n",
              "      <td>NaN</td>\n",
              "      <td>NaN</td>\n",
              "      <td>NaN</td>\n",
              "      <td>NaN</td>\n",
              "      <td>NaN</td>\n",
              "      <td>NaN</td>\n",
              "      <td>NaN</td>\n",
              "      <td>NaN</td>\n",
              "      <td>NaN</td>\n",
              "      <td>NaN</td>\n",
              "      <td>NaN</td>\n",
              "      <td>NaN</td>\n",
              "      <td>NaN</td>\n",
              "      <td>NaN</td>\n",
              "      <td>NaN</td>\n",
              "      <td>NaN</td>\n",
              "      <td>NaN</td>\n",
              "      <td>NaN</td>\n",
              "      <td>NaN</td>\n",
              "      <td>NaN</td>\n",
              "      <td>NaN</td>\n",
              "      <td>NaN</td>\n",
              "      <td>NaN</td>\n",
              "      <td>NaN</td>\n",
              "      <td>NaN</td>\n",
              "      <td>NaN</td>\n",
              "      <td>NaN</td>\n",
              "      <td>NaN</td>\n",
              "      <td>NaN</td>\n",
              "      <td>NaN</td>\n",
              "      <td>NaN</td>\n",
              "      <td>NaN</td>\n",
              "      <td>NaN</td>\n",
              "    </tr>\n",
              "    <tr>\n",
              "      <td>test errors</td>\n",
              "      <td>NaN</td>\n",
              "      <td>0.08</td>\n",
              "      <td>NaN</td>\n",
              "      <td>NaN</td>\n",
              "      <td>NaN</td>\n",
              "      <td>NaN</td>\n",
              "      <td>NaN</td>\n",
              "      <td>NaN</td>\n",
              "      <td>NaN</td>\n",
              "      <td>NaN</td>\n",
              "      <td>NaN</td>\n",
              "      <td>NaN</td>\n",
              "      <td>NaN</td>\n",
              "      <td>NaN</td>\n",
              "      <td>NaN</td>\n",
              "      <td>NaN</td>\n",
              "      <td>NaN</td>\n",
              "      <td>NaN</td>\n",
              "      <td>NaN</td>\n",
              "      <td>NaN</td>\n",
              "      <td>NaN</td>\n",
              "      <td>NaN</td>\n",
              "      <td>NaN</td>\n",
              "      <td>NaN</td>\n",
              "      <td>NaN</td>\n",
              "      <td>NaN</td>\n",
              "      <td>NaN</td>\n",
              "      <td>NaN</td>\n",
              "      <td>NaN</td>\n",
              "      <td>NaN</td>\n",
              "      <td>NaN</td>\n",
              "      <td>NaN</td>\n",
              "      <td>NaN</td>\n",
              "      <td>NaN</td>\n",
              "      <td>NaN</td>\n",
              "      <td>NaN</td>\n",
              "      <td>NaN</td>\n",
              "      <td>NaN</td>\n",
              "      <td>NaN</td>\n",
              "      <td>NaN</td>\n",
              "    </tr>\n",
              "  </tbody>\n",
              "</table>\n",
              "</div>"
            ],
            "text/plain": [
              "              0     1   2   3   4   5   6   7   8   9  10  11  12  13  14  15  \\\n",
              "k           NaN   NaN NaN NaN NaN NaN NaN NaN NaN NaN NaN NaN NaN NaN NaN NaN   \n",
              "test errors NaN  0.08 NaN NaN NaN NaN NaN NaN NaN NaN NaN NaN NaN NaN NaN NaN   \n",
              "\n",
              "             16  17  18  19  20  21  22  23  24  25  26  27  28  29  30  31  \\\n",
              "k           NaN NaN NaN NaN NaN NaN NaN NaN NaN NaN NaN NaN NaN NaN NaN NaN   \n",
              "test errors NaN NaN NaN NaN NaN NaN NaN NaN NaN NaN NaN NaN NaN NaN NaN NaN   \n",
              "\n",
              "             32  33  34  35  36  37  38  39  \n",
              "k           NaN NaN NaN NaN NaN NaN NaN NaN  \n",
              "test errors NaN NaN NaN NaN NaN NaN NaN NaN  "
            ]
          },
          "metadata": {
            "tags": []
          },
          "execution_count": 28
        }
      ]
    },
    {
      "cell_type": "code",
      "metadata": {
        "id": "i5ffQyVmU59E",
        "colab_type": "code",
        "colab": {},
        "outputId": "0f1182c8-a152-4463-b30a-ff17c0525810"
      },
      "source": [
        "# find the lowest train error rate\n",
        "min(tr_err[1:])"
      ],
      "execution_count": null,
      "outputs": [
        {
          "output_type": "execute_result",
          "data": {
            "text/plain": [
              "0.13809523809523805"
            ]
          },
          "metadata": {
            "tags": []
          },
          "execution_count": 29
        }
      ]
    },
    {
      "cell_type": "code",
      "metadata": {
        "id": "pd-rqiUvU59G",
        "colab_type": "code",
        "colab": {},
        "outputId": "7d531881-7baa-484c-b20e-97049dfccfc1"
      },
      "source": [
        "# plot train error rate and test error rate\n",
        "plt.plot(k,tr_err,'b',label = 'Train Errors') \n",
        "plt.plot(k,te_err,'r',label = 'Test Errors')\n",
        "plt.legend()\n",
        "plt.xlabel('Number of K')\n",
        "plt.ylabel('Error Rate')"
      ],
      "execution_count": null,
      "outputs": [
        {
          "output_type": "execute_result",
          "data": {
            "text/plain": [
              "Text(0, 0.5, 'Error Rate')"
            ]
          },
          "metadata": {
            "tags": []
          },
          "execution_count": 30
        },
        {
          "output_type": "display_data",
          "data": {
            "image/png": "[encoded data removed]",
            "text/plain": [
              "<Figure size 432x288 with 1 Axes>"
            ]
          },
          "metadata": {
            "tags": [],
            "needs_background": "light"
          }
        }
      ]
    },
    {
      "cell_type": "markdown",
      "metadata": {
        "id": "ArwGXaeqU59I",
        "colab_type": "text"
      },
      "source": [
        "#### **Answer2**"
      ]
    },
    {
      "cell_type": "markdown",
      "metadata": {
        "id": "Y4BR2O5pU59I",
        "colab_type": "text"
      },
      "source": [
        "The best k is 6 in this case. Because it has the minimum test error rate, which means the accuracy for prediction is high when the knn model has 6 nearest neighbors. When k=1, the train error is zero when but the test error is higher than when k=6 which means the model is overfitting and poor in generalization. "
      ]
    },
    {
      "cell_type": "markdown",
      "metadata": {
        "id": "pi7Nsy3nU59I",
        "colab_type": "text"
      },
      "source": [
        "### (d)iA"
      ]
    },
    {
      "cell_type": "code",
      "metadata": {
        "id": "cFw0JhqlU59I",
        "colab_type": "code",
        "colab": {}
      },
      "source": [
        "# train a knn model with Manhattan metric and test it in terms of k\n",
        "tr_err,te_err = [],[]\n",
        "k = np.arange(1,197,5)\n",
        "for i in k:\n",
        "    knn = neighbors.KNeighborsClassifier(n_neighbors=i,metric='manhattan')\n",
        "    knn.fit(tr_x,tr_y)\n",
        "    tr_err.append(1-knn.score(tr_x,tr_y))\n",
        "    te_err.append(1-knn.score(te_x,te_y))\n",
        "#summarize the test errors in a table\n",
        "te_err_tab = pd.DataFrame([k,te_err],index=['k','test errors'])"
      ],
      "execution_count": null,
      "outputs": []
    },
    {
      "cell_type": "code",
      "metadata": {
        "id": "IGpYXkKpU59K",
        "colab_type": "code",
        "colab": {},
        "outputId": "1ee1fc32-f43e-440c-c3c2-530c59daaac4"
      },
      "source": [
        "te_err_tab"
      ],
      "execution_count": null,
      "outputs": [
        {
          "output_type": "execute_result",
          "data": {
            "text/html": [
              "<div>\n",
              "<style scoped>\n",
              "    .dataframe tbody tr th:only-of-type {\n",
              "        vertical-align: middle;\n",
              "    }\n",
              "\n",
              "    .dataframe tbody tr th {\n",
              "        vertical-align: top;\n",
              "    }\n",
              "\n",
              "    .dataframe thead th {\n",
              "        text-align: right;\n",
              "    }\n",
              "</style>\n",
              "<table border=\"1\" class=\"dataframe\">\n",
              "  <thead>\n",
              "    <tr style=\"text-align: right;\">\n",
              "      <th></th>\n",
              "      <th>0</th>\n",
              "      <th>1</th>\n",
              "      <th>2</th>\n",
              "      <th>3</th>\n",
              "      <th>4</th>\n",
              "      <th>5</th>\n",
              "      <th>6</th>\n",
              "      <th>7</th>\n",
              "      <th>8</th>\n",
              "      <th>9</th>\n",
              "      <th>10</th>\n",
              "      <th>11</th>\n",
              "      <th>12</th>\n",
              "      <th>13</th>\n",
              "      <th>14</th>\n",
              "      <th>15</th>\n",
              "      <th>16</th>\n",
              "      <th>17</th>\n",
              "      <th>18</th>\n",
              "      <th>19</th>\n",
              "      <th>20</th>\n",
              "      <th>21</th>\n",
              "      <th>22</th>\n",
              "      <th>23</th>\n",
              "      <th>24</th>\n",
              "      <th>25</th>\n",
              "      <th>26</th>\n",
              "      <th>27</th>\n",
              "      <th>28</th>\n",
              "      <th>29</th>\n",
              "      <th>30</th>\n",
              "      <th>31</th>\n",
              "      <th>32</th>\n",
              "      <th>33</th>\n",
              "      <th>34</th>\n",
              "      <th>35</th>\n",
              "      <th>36</th>\n",
              "      <th>37</th>\n",
              "      <th>38</th>\n",
              "      <th>39</th>\n",
              "    </tr>\n",
              "  </thead>\n",
              "  <tbody>\n",
              "    <tr>\n",
              "      <td>k</td>\n",
              "      <td>1.00</td>\n",
              "      <td>6.00</td>\n",
              "      <td>11.00</td>\n",
              "      <td>16.00</td>\n",
              "      <td>21.00</td>\n",
              "      <td>26.00</td>\n",
              "      <td>31.00</td>\n",
              "      <td>36.00</td>\n",
              "      <td>41.00</td>\n",
              "      <td>46.00</td>\n",
              "      <td>51.00</td>\n",
              "      <td>56.00</td>\n",
              "      <td>61.00</td>\n",
              "      <td>66.00</td>\n",
              "      <td>71.00</td>\n",
              "      <td>76.00</td>\n",
              "      <td>81.00</td>\n",
              "      <td>86.00</td>\n",
              "      <td>91.0</td>\n",
              "      <td>96.0</td>\n",
              "      <td>101.00</td>\n",
              "      <td>106.00</td>\n",
              "      <td>111.00</td>\n",
              "      <td>116.00</td>\n",
              "      <td>121.00</td>\n",
              "      <td>126.00</td>\n",
              "      <td>131.00</td>\n",
              "      <td>136.00</td>\n",
              "      <td>141.0</td>\n",
              "      <td>146.0</td>\n",
              "      <td>151.0</td>\n",
              "      <td>156.0</td>\n",
              "      <td>161.0</td>\n",
              "      <td>166.0</td>\n",
              "      <td>171.0</td>\n",
              "      <td>176.0</td>\n",
              "      <td>181.0</td>\n",
              "      <td>186.0</td>\n",
              "      <td>191.0</td>\n",
              "      <td>196.0</td>\n",
              "    </tr>\n",
              "    <tr>\n",
              "      <td>test errors</td>\n",
              "      <td>0.12</td>\n",
              "      <td>0.11</td>\n",
              "      <td>0.11</td>\n",
              "      <td>0.12</td>\n",
              "      <td>0.12</td>\n",
              "      <td>0.11</td>\n",
              "      <td>0.12</td>\n",
              "      <td>0.13</td>\n",
              "      <td>0.13</td>\n",
              "      <td>0.13</td>\n",
              "      <td>0.14</td>\n",
              "      <td>0.13</td>\n",
              "      <td>0.15</td>\n",
              "      <td>0.15</td>\n",
              "      <td>0.14</td>\n",
              "      <td>0.14</td>\n",
              "      <td>0.16</td>\n",
              "      <td>0.15</td>\n",
              "      <td>0.2</td>\n",
              "      <td>0.2</td>\n",
              "      <td>0.22</td>\n",
              "      <td>0.21</td>\n",
              "      <td>0.23</td>\n",
              "      <td>0.21</td>\n",
              "      <td>0.22</td>\n",
              "      <td>0.24</td>\n",
              "      <td>0.28</td>\n",
              "      <td>0.28</td>\n",
              "      <td>0.3</td>\n",
              "      <td>0.3</td>\n",
              "      <td>0.3</td>\n",
              "      <td>0.3</td>\n",
              "      <td>0.3</td>\n",
              "      <td>0.3</td>\n",
              "      <td>0.3</td>\n",
              "      <td>0.3</td>\n",
              "      <td>0.3</td>\n",
              "      <td>0.3</td>\n",
              "      <td>0.3</td>\n",
              "      <td>0.3</td>\n",
              "    </tr>\n",
              "  </tbody>\n",
              "</table>\n",
              "</div>"
            ],
            "text/plain": [
              "                0     1      2      3      4      5      6      7      8  \\\n",
              "k            1.00  6.00  11.00  16.00  21.00  26.00  31.00  36.00  41.00   \n",
              "test errors  0.12  0.11   0.11   0.12   0.12   0.11   0.12   0.13   0.13   \n",
              "\n",
              "                 9     10     11     12     13     14     15     16     17  \\\n",
              "k            46.00  51.00  56.00  61.00  66.00  71.00  76.00  81.00  86.00   \n",
              "test errors   0.13   0.14   0.13   0.15   0.15   0.14   0.14   0.16   0.15   \n",
              "\n",
              "               18    19      20      21      22      23      24      25  \\\n",
              "k            91.0  96.0  101.00  106.00  111.00  116.00  121.00  126.00   \n",
              "test errors   0.2   0.2    0.22    0.21    0.23    0.21    0.22    0.24   \n",
              "\n",
              "                 26      27     28     29     30     31     32     33     34  \\\n",
              "k            131.00  136.00  141.0  146.0  151.0  156.0  161.0  166.0  171.0   \n",
              "test errors    0.28    0.28    0.3    0.3    0.3    0.3    0.3    0.3    0.3   \n",
              "\n",
              "                35     36     37     38     39  \n",
              "k            176.0  181.0  186.0  191.0  196.0  \n",
              "test errors    0.3    0.3    0.3    0.3    0.3  "
            ]
          },
          "metadata": {
            "tags": []
          },
          "execution_count": 32
        }
      ]
    },
    {
      "cell_type": "code",
      "metadata": {
        "id": "PyQcBrLMU59M",
        "colab_type": "code",
        "colab": {},
        "outputId": "cd085219-1cd4-4d87-98c7-7ef6d0dbea04"
      },
      "source": [
        "# find the lowest test error rate\n",
        "te_err_tab[te_err_tab == min(te_err)]"
      ],
      "execution_count": null,
      "outputs": [
        {
          "output_type": "execute_result",
          "data": {
            "text/html": [
              "<div>\n",
              "<style scoped>\n",
              "    .dataframe tbody tr th:only-of-type {\n",
              "        vertical-align: middle;\n",
              "    }\n",
              "\n",
              "    .dataframe tbody tr th {\n",
              "        vertical-align: top;\n",
              "    }\n",
              "\n",
              "    .dataframe thead th {\n",
              "        text-align: right;\n",
              "    }\n",
              "</style>\n",
              "<table border=\"1\" class=\"dataframe\">\n",
              "  <thead>\n",
              "    <tr style=\"text-align: right;\">\n",
              "      <th></th>\n",
              "      <th>0</th>\n",
              "      <th>1</th>\n",
              "      <th>2</th>\n",
              "      <th>3</th>\n",
              "      <th>4</th>\n",
              "      <th>5</th>\n",
              "      <th>6</th>\n",
              "      <th>7</th>\n",
              "      <th>8</th>\n",
              "      <th>9</th>\n",
              "      <th>10</th>\n",
              "      <th>11</th>\n",
              "      <th>12</th>\n",
              "      <th>13</th>\n",
              "      <th>14</th>\n",
              "      <th>15</th>\n",
              "      <th>16</th>\n",
              "      <th>17</th>\n",
              "      <th>18</th>\n",
              "      <th>19</th>\n",
              "      <th>20</th>\n",
              "      <th>21</th>\n",
              "      <th>22</th>\n",
              "      <th>23</th>\n",
              "      <th>24</th>\n",
              "      <th>25</th>\n",
              "      <th>26</th>\n",
              "      <th>27</th>\n",
              "      <th>28</th>\n",
              "      <th>29</th>\n",
              "      <th>30</th>\n",
              "      <th>31</th>\n",
              "      <th>32</th>\n",
              "      <th>33</th>\n",
              "      <th>34</th>\n",
              "      <th>35</th>\n",
              "      <th>36</th>\n",
              "      <th>37</th>\n",
              "      <th>38</th>\n",
              "      <th>39</th>\n",
              "    </tr>\n",
              "  </thead>\n",
              "  <tbody>\n",
              "    <tr>\n",
              "      <td>k</td>\n",
              "      <td>NaN</td>\n",
              "      <td>NaN</td>\n",
              "      <td>NaN</td>\n",
              "      <td>NaN</td>\n",
              "      <td>NaN</td>\n",
              "      <td>NaN</td>\n",
              "      <td>NaN</td>\n",
              "      <td>NaN</td>\n",
              "      <td>NaN</td>\n",
              "      <td>NaN</td>\n",
              "      <td>NaN</td>\n",
              "      <td>NaN</td>\n",
              "      <td>NaN</td>\n",
              "      <td>NaN</td>\n",
              "      <td>NaN</td>\n",
              "      <td>NaN</td>\n",
              "      <td>NaN</td>\n",
              "      <td>NaN</td>\n",
              "      <td>NaN</td>\n",
              "      <td>NaN</td>\n",
              "      <td>NaN</td>\n",
              "      <td>NaN</td>\n",
              "      <td>NaN</td>\n",
              "      <td>NaN</td>\n",
              "      <td>NaN</td>\n",
              "      <td>NaN</td>\n",
              "      <td>NaN</td>\n",
              "      <td>NaN</td>\n",
              "      <td>NaN</td>\n",
              "      <td>NaN</td>\n",
              "      <td>NaN</td>\n",
              "      <td>NaN</td>\n",
              "      <td>NaN</td>\n",
              "      <td>NaN</td>\n",
              "      <td>NaN</td>\n",
              "      <td>NaN</td>\n",
              "      <td>NaN</td>\n",
              "      <td>NaN</td>\n",
              "      <td>NaN</td>\n",
              "      <td>NaN</td>\n",
              "    </tr>\n",
              "    <tr>\n",
              "      <td>test errors</td>\n",
              "      <td>NaN</td>\n",
              "      <td>0.11</td>\n",
              "      <td>0.11</td>\n",
              "      <td>NaN</td>\n",
              "      <td>NaN</td>\n",
              "      <td>0.11</td>\n",
              "      <td>NaN</td>\n",
              "      <td>NaN</td>\n",
              "      <td>NaN</td>\n",
              "      <td>NaN</td>\n",
              "      <td>NaN</td>\n",
              "      <td>NaN</td>\n",
              "      <td>NaN</td>\n",
              "      <td>NaN</td>\n",
              "      <td>NaN</td>\n",
              "      <td>NaN</td>\n",
              "      <td>NaN</td>\n",
              "      <td>NaN</td>\n",
              "      <td>NaN</td>\n",
              "      <td>NaN</td>\n",
              "      <td>NaN</td>\n",
              "      <td>NaN</td>\n",
              "      <td>NaN</td>\n",
              "      <td>NaN</td>\n",
              "      <td>NaN</td>\n",
              "      <td>NaN</td>\n",
              "      <td>NaN</td>\n",
              "      <td>NaN</td>\n",
              "      <td>NaN</td>\n",
              "      <td>NaN</td>\n",
              "      <td>NaN</td>\n",
              "      <td>NaN</td>\n",
              "      <td>NaN</td>\n",
              "      <td>NaN</td>\n",
              "      <td>NaN</td>\n",
              "      <td>NaN</td>\n",
              "      <td>NaN</td>\n",
              "      <td>NaN</td>\n",
              "      <td>NaN</td>\n",
              "      <td>NaN</td>\n",
              "    </tr>\n",
              "  </tbody>\n",
              "</table>\n",
              "</div>"
            ],
            "text/plain": [
              "              0     1     2   3   4     5   6   7   8   9  10  11  12  13  14  \\\n",
              "k           NaN   NaN   NaN NaN NaN   NaN NaN NaN NaN NaN NaN NaN NaN NaN NaN   \n",
              "test errors NaN  0.11  0.11 NaN NaN  0.11 NaN NaN NaN NaN NaN NaN NaN NaN NaN   \n",
              "\n",
              "             15  16  17  18  19  20  21  22  23  24  25  26  27  28  29  30  \\\n",
              "k           NaN NaN NaN NaN NaN NaN NaN NaN NaN NaN NaN NaN NaN NaN NaN NaN   \n",
              "test errors NaN NaN NaN NaN NaN NaN NaN NaN NaN NaN NaN NaN NaN NaN NaN NaN   \n",
              "\n",
              "             31  32  33  34  35  36  37  38  39  \n",
              "k           NaN NaN NaN NaN NaN NaN NaN NaN NaN  \n",
              "test errors NaN NaN NaN NaN NaN NaN NaN NaN NaN  "
            ]
          },
          "metadata": {
            "tags": []
          },
          "execution_count": 33
        }
      ]
    },
    {
      "cell_type": "code",
      "metadata": {
        "id": "9iDPQgoZU59N",
        "colab_type": "code",
        "colab": {},
        "outputId": "bb3af7b1-70d5-4ffc-9831-beb136ea1899"
      },
      "source": [
        "# find the lowest train error rate\n",
        "min(tr_err[1:])"
      ],
      "execution_count": null,
      "outputs": [
        {
          "output_type": "execute_result",
          "data": {
            "text/plain": [
              "0.1333333333333333"
            ]
          },
          "metadata": {
            "tags": []
          },
          "execution_count": 34
        }
      ]
    },
    {
      "cell_type": "code",
      "metadata": {
        "id": "DhV9GEZBU59Q",
        "colab_type": "code",
        "colab": {},
        "outputId": "4a1068fd-ac09-41b1-fc7b-c6c82c0d3403"
      },
      "source": [
        "# plot train error rate and test error rate\n",
        "plt.plot(k,tr_err,'b',label = 'Train Errors') \n",
        "plt.plot(k,te_err,'r',label = 'Test Errors')\n",
        "plt.legend()\n",
        "plt.xlabel('Number of K')\n",
        "plt.ylabel('Error Rate')"
      ],
      "execution_count": null,
      "outputs": [
        {
          "output_type": "execute_result",
          "data": {
            "text/plain": [
              "Text(0, 0.5, 'Error Rate')"
            ]
          },
          "metadata": {
            "tags": []
          },
          "execution_count": 35
        },
        {
          "output_type": "display_data",
          "data": {
            "image/png": "[encoded data removed]",
            "text/plain": [
              "<Figure size 432x288 with 1 Axes>"
            ]
          },
          "metadata": {
            "tags": [],
            "needs_background": "light"
          }
        }
      ]
    },
    {
      "cell_type": "markdown",
      "metadata": {
        "id": "qHxp3az9U59S",
        "colab_type": "text"
      },
      "source": [
        "#### **Answer3**"
      ]
    },
    {
      "cell_type": "markdown",
      "metadata": {
        "id": "ZPbm3N1LU59S",
        "colab_type": "text"
      },
      "source": [
        "The best k is 26 in this case. Because it has the lowest test error rate and it is the largest k among values of k with same lowest test error rate. \n",
        "The minimum test error rate signifies the model's accuracy of prediction, but small k leads to high variance and low bias, which tends to be overfitting. So when there are multiple lowest test errors from some values of k, it will be better to choose the largest k in them. It is also shown in the plot that the model is not overfitting when k=26."
      ]
    },
    {
      "cell_type": "markdown",
      "metadata": {
        "id": "bxqiw_61U59T",
        "colab_type": "text"
      },
      "source": [
        "### (d)iB"
      ]
    },
    {
      "cell_type": "code",
      "metadata": {
        "id": "gLQaXFLyU59T",
        "colab_type": "code",
        "colab": {}
      },
      "source": [
        "# train knn models with k=26 in terms of p and test them\n",
        "tr_err,te_err = [],[]\n",
        "p = np.linspace(0.1,1,10)\n",
        "for i in p:\n",
        "    knn = neighbors.KNeighborsClassifier(n_neighbors=26,p=10**i)\n",
        "    knn.fit(tr_x,tr_y)\n",
        "    tr_err.append(1-knn.score(tr_x,tr_y))\n",
        "    te_err.append(1-knn.score(te_x,te_y))\n",
        "#summarize the test errors in a table\n",
        "te_err_tab = pd.DataFrame([p,te_err],index=['lg(p)','test errors'])"
      ],
      "execution_count": null,
      "outputs": []
    },
    {
      "cell_type": "code",
      "metadata": {
        "id": "8EyPMg1zU59V",
        "colab_type": "code",
        "colab": {},
        "outputId": "bd418811-eb7a-4c05-9932-92481e6859e0"
      },
      "source": [
        "te_err_tab"
      ],
      "execution_count": null,
      "outputs": [
        {
          "output_type": "execute_result",
          "data": {
            "text/html": [
              "<div>\n",
              "<style scoped>\n",
              "    .dataframe tbody tr th:only-of-type {\n",
              "        vertical-align: middle;\n",
              "    }\n",
              "\n",
              "    .dataframe tbody tr th {\n",
              "        vertical-align: top;\n",
              "    }\n",
              "\n",
              "    .dataframe thead th {\n",
              "        text-align: right;\n",
              "    }\n",
              "</style>\n",
              "<table border=\"1\" class=\"dataframe\">\n",
              "  <thead>\n",
              "    <tr style=\"text-align: right;\">\n",
              "      <th></th>\n",
              "      <th>0</th>\n",
              "      <th>1</th>\n",
              "      <th>2</th>\n",
              "      <th>3</th>\n",
              "      <th>4</th>\n",
              "      <th>5</th>\n",
              "      <th>6</th>\n",
              "      <th>7</th>\n",
              "      <th>8</th>\n",
              "      <th>9</th>\n",
              "    </tr>\n",
              "  </thead>\n",
              "  <tbody>\n",
              "    <tr>\n",
              "      <td>lg(p)</td>\n",
              "      <td>0.1</td>\n",
              "      <td>0.2</td>\n",
              "      <td>0.30</td>\n",
              "      <td>0.4</td>\n",
              "      <td>0.50</td>\n",
              "      <td>0.6</td>\n",
              "      <td>0.70</td>\n",
              "      <td>0.80</td>\n",
              "      <td>0.90</td>\n",
              "      <td>1.00</td>\n",
              "    </tr>\n",
              "    <tr>\n",
              "      <td>test errors</td>\n",
              "      <td>0.1</td>\n",
              "      <td>0.1</td>\n",
              "      <td>0.11</td>\n",
              "      <td>0.1</td>\n",
              "      <td>0.11</td>\n",
              "      <td>0.1</td>\n",
              "      <td>0.11</td>\n",
              "      <td>0.11</td>\n",
              "      <td>0.11</td>\n",
              "      <td>0.11</td>\n",
              "    </tr>\n",
              "  </tbody>\n",
              "</table>\n",
              "</div>"
            ],
            "text/plain": [
              "               0    1     2    3     4    5     6     7     8     9\n",
              "lg(p)        0.1  0.2  0.30  0.4  0.50  0.6  0.70  0.80  0.90  1.00\n",
              "test errors  0.1  0.1  0.11  0.1  0.11  0.1  0.11  0.11  0.11  0.11"
            ]
          },
          "metadata": {
            "tags": []
          },
          "execution_count": 37
        }
      ]
    },
    {
      "cell_type": "code",
      "metadata": {
        "id": "p06lbDHJU59X",
        "colab_type": "code",
        "colab": {},
        "outputId": "3c57c546-1a3e-4d18-edba-c74d62e444ea"
      },
      "source": [
        "# find the lowest train error rate\n",
        "min(tr_err)"
      ],
      "execution_count": null,
      "outputs": [
        {
          "output_type": "execute_result",
          "data": {
            "text/plain": [
              "0.13809523809523805"
            ]
          },
          "metadata": {
            "tags": []
          },
          "execution_count": 38
        }
      ]
    },
    {
      "cell_type": "code",
      "metadata": {
        "id": "YTBuLF0tU59Z",
        "colab_type": "code",
        "colab": {},
        "outputId": "09a3e990-df83-4c1c-a544-abf2c85fad97"
      },
      "source": [
        "# plot train error rate and test error rate\n",
        "plt.plot(p,tr_err,'b',label = 'Train Errors') \n",
        "plt.plot(p,te_err,'r',label = 'Test Errors')\n",
        "plt.legend()\n",
        "plt.xlabel('lg(p)')\n",
        "plt.ylabel('Error Rate')"
      ],
      "execution_count": null,
      "outputs": [
        {
          "output_type": "execute_result",
          "data": {
            "text/plain": [
              "Text(0, 0.5, 'Error Rate')"
            ]
          },
          "metadata": {
            "tags": []
          },
          "execution_count": 39
        },
        {
          "output_type": "display_data",
          "data": {
            "image/png": "[encoded data removed]",
            "text/plain": [
              "<Figure size 432x288 with 1 Axes>"
            ]
          },
          "metadata": {
            "tags": [],
            "needs_background": "light"
          }
        }
      ]
    },
    {
      "cell_type": "markdown",
      "metadata": {
        "id": "CS1Q3PqbU59b",
        "colab_type": "text"
      },
      "source": [
        "#### **Answer4**"
      ]
    },
    {
      "cell_type": "markdown",
      "metadata": {
        "id": "CTAISXxwU59b",
        "colab_type": "text"
      },
      "source": [
        "The best lg(p) is 0.1. Because the test error rate is the lowest. And within several lg(p) which have same lowest test errors, when lg(p)=0.1, the train error rate is higher than others which means this model is less overfitting."
      ]
    },
    {
      "cell_type": "markdown",
      "metadata": {
        "id": "hK98L6yBU59c",
        "colab_type": "text"
      },
      "source": [
        "### (d)iC"
      ]
    },
    {
      "cell_type": "code",
      "metadata": {
        "id": "D3dwjHx5U59c",
        "colab_type": "code",
        "colab": {}
      },
      "source": [
        "# train a knn model with Chebyshev metric and test it in terms of k\n",
        "tr_err,te_err = [],[]\n",
        "k = np.arange(1,197,5)\n",
        "for i in k:\n",
        "    knn = neighbors.KNeighborsClassifier(n_neighbors=i,metric='chebyshev')\n",
        "    knn.fit(tr_x,tr_y)\n",
        "    tr_err.append(1-knn.score(tr_x,tr_y))\n",
        "    te_err.append(1-knn.score(te_x,te_y))\n",
        "#summarize the test errors in a table\n",
        "te_err_tab = pd.DataFrame([k,te_err],index=['k','test errors'])"
      ],
      "execution_count": null,
      "outputs": []
    },
    {
      "cell_type": "code",
      "metadata": {
        "id": "qbIINeEOU59f",
        "colab_type": "code",
        "colab": {},
        "outputId": "1f70cb79-9a6f-4667-fbe5-b442388579e1"
      },
      "source": [
        "te_err_tab"
      ],
      "execution_count": null,
      "outputs": [
        {
          "output_type": "execute_result",
          "data": {
            "text/html": [
              "<div>\n",
              "<style scoped>\n",
              "    .dataframe tbody tr th:only-of-type {\n",
              "        vertical-align: middle;\n",
              "    }\n",
              "\n",
              "    .dataframe tbody tr th {\n",
              "        vertical-align: top;\n",
              "    }\n",
              "\n",
              "    .dataframe thead th {\n",
              "        text-align: right;\n",
              "    }\n",
              "</style>\n",
              "<table border=\"1\" class=\"dataframe\">\n",
              "  <thead>\n",
              "    <tr style=\"text-align: right;\">\n",
              "      <th></th>\n",
              "      <th>0</th>\n",
              "      <th>1</th>\n",
              "      <th>2</th>\n",
              "      <th>3</th>\n",
              "      <th>4</th>\n",
              "      <th>5</th>\n",
              "      <th>6</th>\n",
              "      <th>7</th>\n",
              "      <th>8</th>\n",
              "      <th>9</th>\n",
              "      <th>10</th>\n",
              "      <th>11</th>\n",
              "      <th>12</th>\n",
              "      <th>13</th>\n",
              "      <th>14</th>\n",
              "      <th>15</th>\n",
              "      <th>16</th>\n",
              "      <th>17</th>\n",
              "      <th>18</th>\n",
              "      <th>19</th>\n",
              "      <th>20</th>\n",
              "      <th>21</th>\n",
              "      <th>22</th>\n",
              "      <th>23</th>\n",
              "      <th>24</th>\n",
              "      <th>25</th>\n",
              "      <th>26</th>\n",
              "      <th>27</th>\n",
              "      <th>28</th>\n",
              "      <th>29</th>\n",
              "      <th>30</th>\n",
              "      <th>31</th>\n",
              "      <th>32</th>\n",
              "      <th>33</th>\n",
              "      <th>34</th>\n",
              "      <th>35</th>\n",
              "      <th>36</th>\n",
              "      <th>37</th>\n",
              "      <th>38</th>\n",
              "      <th>39</th>\n",
              "    </tr>\n",
              "  </thead>\n",
              "  <tbody>\n",
              "    <tr>\n",
              "      <td>k</td>\n",
              "      <td>1.00</td>\n",
              "      <td>6.0</td>\n",
              "      <td>11.00</td>\n",
              "      <td>16.00</td>\n",
              "      <td>21.00</td>\n",
              "      <td>26.00</td>\n",
              "      <td>31.00</td>\n",
              "      <td>36.0</td>\n",
              "      <td>41.00</td>\n",
              "      <td>46.00</td>\n",
              "      <td>51.00</td>\n",
              "      <td>56.00</td>\n",
              "      <td>61.00</td>\n",
              "      <td>66.00</td>\n",
              "      <td>71.00</td>\n",
              "      <td>76.00</td>\n",
              "      <td>81.00</td>\n",
              "      <td>86.00</td>\n",
              "      <td>91.00</td>\n",
              "      <td>96.00</td>\n",
              "      <td>101.00</td>\n",
              "      <td>106.00</td>\n",
              "      <td>111.00</td>\n",
              "      <td>116.00</td>\n",
              "      <td>121.00</td>\n",
              "      <td>126.00</td>\n",
              "      <td>131.00</td>\n",
              "      <td>136.00</td>\n",
              "      <td>141.0</td>\n",
              "      <td>146.0</td>\n",
              "      <td>151.0</td>\n",
              "      <td>156.0</td>\n",
              "      <td>161.0</td>\n",
              "      <td>166.0</td>\n",
              "      <td>171.0</td>\n",
              "      <td>176.0</td>\n",
              "      <td>181.0</td>\n",
              "      <td>186.0</td>\n",
              "      <td>191.0</td>\n",
              "      <td>196.0</td>\n",
              "    </tr>\n",
              "    <tr>\n",
              "      <td>test errors</td>\n",
              "      <td>0.13</td>\n",
              "      <td>0.1</td>\n",
              "      <td>0.12</td>\n",
              "      <td>0.08</td>\n",
              "      <td>0.11</td>\n",
              "      <td>0.12</td>\n",
              "      <td>0.12</td>\n",
              "      <td>0.1</td>\n",
              "      <td>0.13</td>\n",
              "      <td>0.12</td>\n",
              "      <td>0.12</td>\n",
              "      <td>0.12</td>\n",
              "      <td>0.14</td>\n",
              "      <td>0.13</td>\n",
              "      <td>0.14</td>\n",
              "      <td>0.11</td>\n",
              "      <td>0.14</td>\n",
              "      <td>0.12</td>\n",
              "      <td>0.15</td>\n",
              "      <td>0.14</td>\n",
              "      <td>0.19</td>\n",
              "      <td>0.18</td>\n",
              "      <td>0.18</td>\n",
              "      <td>0.18</td>\n",
              "      <td>0.21</td>\n",
              "      <td>0.21</td>\n",
              "      <td>0.25</td>\n",
              "      <td>0.28</td>\n",
              "      <td>0.3</td>\n",
              "      <td>0.3</td>\n",
              "      <td>0.3</td>\n",
              "      <td>0.3</td>\n",
              "      <td>0.3</td>\n",
              "      <td>0.3</td>\n",
              "      <td>0.3</td>\n",
              "      <td>0.3</td>\n",
              "      <td>0.3</td>\n",
              "      <td>0.3</td>\n",
              "      <td>0.3</td>\n",
              "      <td>0.3</td>\n",
              "    </tr>\n",
              "  </tbody>\n",
              "</table>\n",
              "</div>"
            ],
            "text/plain": [
              "                0    1      2      3      4      5      6     7      8      9  \\\n",
              "k            1.00  6.0  11.00  16.00  21.00  26.00  31.00  36.0  41.00  46.00   \n",
              "test errors  0.13  0.1   0.12   0.08   0.11   0.12   0.12   0.1   0.13   0.12   \n",
              "\n",
              "                10     11     12     13     14     15     16     17     18  \\\n",
              "k            51.00  56.00  61.00  66.00  71.00  76.00  81.00  86.00  91.00   \n",
              "test errors   0.12   0.12   0.14   0.13   0.14   0.11   0.14   0.12   0.15   \n",
              "\n",
              "                19      20      21      22      23      24      25      26  \\\n",
              "k            96.00  101.00  106.00  111.00  116.00  121.00  126.00  131.00   \n",
              "test errors   0.14    0.19    0.18    0.18    0.18    0.21    0.21    0.25   \n",
              "\n",
              "                 27     28     29     30     31     32     33     34     35  \\\n",
              "k            136.00  141.0  146.0  151.0  156.0  161.0  166.0  171.0  176.0   \n",
              "test errors    0.28    0.3    0.3    0.3    0.3    0.3    0.3    0.3    0.3   \n",
              "\n",
              "                36     37     38     39  \n",
              "k            181.0  186.0  191.0  196.0  \n",
              "test errors    0.3    0.3    0.3    0.3  "
            ]
          },
          "metadata": {
            "tags": []
          },
          "execution_count": 41
        }
      ]
    },
    {
      "cell_type": "code",
      "metadata": {
        "id": "OoxAW5Y1U59h",
        "colab_type": "code",
        "colab": {},
        "outputId": "9869cee4-7878-4e19-dc9b-8016a1c8a6d6"
      },
      "source": [
        "# find the lowest test error rate\n",
        "te_err_tab[te_err_tab == min(te_err)]"
      ],
      "execution_count": null,
      "outputs": [
        {
          "output_type": "execute_result",
          "data": {
            "text/html": [
              "<div>\n",
              "<style scoped>\n",
              "    .dataframe tbody tr th:only-of-type {\n",
              "        vertical-align: middle;\n",
              "    }\n",
              "\n",
              "    .dataframe tbody tr th {\n",
              "        vertical-align: top;\n",
              "    }\n",
              "\n",
              "    .dataframe thead th {\n",
              "        text-align: right;\n",
              "    }\n",
              "</style>\n",
              "<table border=\"1\" class=\"dataframe\">\n",
              "  <thead>\n",
              "    <tr style=\"text-align: right;\">\n",
              "      <th></th>\n",
              "      <th>0</th>\n",
              "      <th>1</th>\n",
              "      <th>2</th>\n",
              "      <th>3</th>\n",
              "      <th>4</th>\n",
              "      <th>5</th>\n",
              "      <th>6</th>\n",
              "      <th>7</th>\n",
              "      <th>8</th>\n",
              "      <th>9</th>\n",
              "      <th>10</th>\n",
              "      <th>11</th>\n",
              "      <th>12</th>\n",
              "      <th>13</th>\n",
              "      <th>14</th>\n",
              "      <th>15</th>\n",
              "      <th>16</th>\n",
              "      <th>17</th>\n",
              "      <th>18</th>\n",
              "      <th>19</th>\n",
              "      <th>20</th>\n",
              "      <th>21</th>\n",
              "      <th>22</th>\n",
              "      <th>23</th>\n",
              "      <th>24</th>\n",
              "      <th>25</th>\n",
              "      <th>26</th>\n",
              "      <th>27</th>\n",
              "      <th>28</th>\n",
              "      <th>29</th>\n",
              "      <th>30</th>\n",
              "      <th>31</th>\n",
              "      <th>32</th>\n",
              "      <th>33</th>\n",
              "      <th>34</th>\n",
              "      <th>35</th>\n",
              "      <th>36</th>\n",
              "      <th>37</th>\n",
              "      <th>38</th>\n",
              "      <th>39</th>\n",
              "    </tr>\n",
              "  </thead>\n",
              "  <tbody>\n",
              "    <tr>\n",
              "      <td>k</td>\n",
              "      <td>NaN</td>\n",
              "      <td>NaN</td>\n",
              "      <td>NaN</td>\n",
              "      <td>NaN</td>\n",
              "      <td>NaN</td>\n",
              "      <td>NaN</td>\n",
              "      <td>NaN</td>\n",
              "      <td>NaN</td>\n",
              "      <td>NaN</td>\n",
              "      <td>NaN</td>\n",
              "      <td>NaN</td>\n",
              "      <td>NaN</td>\n",
              "      <td>NaN</td>\n",
              "      <td>NaN</td>\n",
              "      <td>NaN</td>\n",
              "      <td>NaN</td>\n",
              "      <td>NaN</td>\n",
              "      <td>NaN</td>\n",
              "      <td>NaN</td>\n",
              "      <td>NaN</td>\n",
              "      <td>NaN</td>\n",
              "      <td>NaN</td>\n",
              "      <td>NaN</td>\n",
              "      <td>NaN</td>\n",
              "      <td>NaN</td>\n",
              "      <td>NaN</td>\n",
              "      <td>NaN</td>\n",
              "      <td>NaN</td>\n",
              "      <td>NaN</td>\n",
              "      <td>NaN</td>\n",
              "      <td>NaN</td>\n",
              "      <td>NaN</td>\n",
              "      <td>NaN</td>\n",
              "      <td>NaN</td>\n",
              "      <td>NaN</td>\n",
              "      <td>NaN</td>\n",
              "      <td>NaN</td>\n",
              "      <td>NaN</td>\n",
              "      <td>NaN</td>\n",
              "      <td>NaN</td>\n",
              "    </tr>\n",
              "    <tr>\n",
              "      <td>test errors</td>\n",
              "      <td>NaN</td>\n",
              "      <td>NaN</td>\n",
              "      <td>NaN</td>\n",
              "      <td>0.08</td>\n",
              "      <td>NaN</td>\n",
              "      <td>NaN</td>\n",
              "      <td>NaN</td>\n",
              "      <td>NaN</td>\n",
              "      <td>NaN</td>\n",
              "      <td>NaN</td>\n",
              "      <td>NaN</td>\n",
              "      <td>NaN</td>\n",
              "      <td>NaN</td>\n",
              "      <td>NaN</td>\n",
              "      <td>NaN</td>\n",
              "      <td>NaN</td>\n",
              "      <td>NaN</td>\n",
              "      <td>NaN</td>\n",
              "      <td>NaN</td>\n",
              "      <td>NaN</td>\n",
              "      <td>NaN</td>\n",
              "      <td>NaN</td>\n",
              "      <td>NaN</td>\n",
              "      <td>NaN</td>\n",
              "      <td>NaN</td>\n",
              "      <td>NaN</td>\n",
              "      <td>NaN</td>\n",
              "      <td>NaN</td>\n",
              "      <td>NaN</td>\n",
              "      <td>NaN</td>\n",
              "      <td>NaN</td>\n",
              "      <td>NaN</td>\n",
              "      <td>NaN</td>\n",
              "      <td>NaN</td>\n",
              "      <td>NaN</td>\n",
              "      <td>NaN</td>\n",
              "      <td>NaN</td>\n",
              "      <td>NaN</td>\n",
              "      <td>NaN</td>\n",
              "      <td>NaN</td>\n",
              "    </tr>\n",
              "  </tbody>\n",
              "</table>\n",
              "</div>"
            ],
            "text/plain": [
              "              0   1   2     3   4   5   6   7   8   9  10  11  12  13  14  15  \\\n",
              "k           NaN NaN NaN   NaN NaN NaN NaN NaN NaN NaN NaN NaN NaN NaN NaN NaN   \n",
              "test errors NaN NaN NaN  0.08 NaN NaN NaN NaN NaN NaN NaN NaN NaN NaN NaN NaN   \n",
              "\n",
              "             16  17  18  19  20  21  22  23  24  25  26  27  28  29  30  31  \\\n",
              "k           NaN NaN NaN NaN NaN NaN NaN NaN NaN NaN NaN NaN NaN NaN NaN NaN   \n",
              "test errors NaN NaN NaN NaN NaN NaN NaN NaN NaN NaN NaN NaN NaN NaN NaN NaN   \n",
              "\n",
              "             32  33  34  35  36  37  38  39  \n",
              "k           NaN NaN NaN NaN NaN NaN NaN NaN  \n",
              "test errors NaN NaN NaN NaN NaN NaN NaN NaN  "
            ]
          },
          "metadata": {
            "tags": []
          },
          "execution_count": 42
        }
      ]
    },
    {
      "cell_type": "code",
      "metadata": {
        "id": "woxZ8sx_U59j",
        "colab_type": "code",
        "colab": {},
        "outputId": "cedfc0ce-5e13-4acb-df57-d397b9cc92f2"
      },
      "source": [
        "# find the lowest train error rate\n",
        "min(tr_err[1:])"
      ],
      "execution_count": null,
      "outputs": [
        {
          "output_type": "execute_result",
          "data": {
            "text/plain": [
              "0.1333333333333333"
            ]
          },
          "metadata": {
            "tags": []
          },
          "execution_count": 43
        }
      ]
    },
    {
      "cell_type": "code",
      "metadata": {
        "id": "aymOtD0KU59l",
        "colab_type": "code",
        "colab": {},
        "outputId": "5ba1066a-0e07-4d8f-ac95-362f960d7e68"
      },
      "source": [
        "# plot train error rate and test error rate\n",
        "plt.plot(k,tr_err,'b',label = 'Train Errors') \n",
        "plt.plot(k,te_err,'r',label = 'Test Errors')\n",
        "plt.legend()\n",
        "plt.xlabel('Number of K')\n",
        "plt.ylabel('Error Rate')"
      ],
      "execution_count": null,
      "outputs": [
        {
          "output_type": "execute_result",
          "data": {
            "text/plain": [
              "Text(0, 0.5, 'Error Rate')"
            ]
          },
          "metadata": {
            "tags": []
          },
          "execution_count": 44
        },
        {
          "output_type": "display_data",
          "data": {
            "image/png": "[encoded data removed]",
            "text/plain": [
              "<Figure size 432x288 with 1 Axes>"
            ]
          },
          "metadata": {
            "tags": [],
            "needs_background": "light"
          }
        }
      ]
    },
    {
      "cell_type": "markdown",
      "metadata": {
        "id": "MVNvZ5nhU59n",
        "colab_type": "text"
      },
      "source": [
        "#### **Answer5**"
      ]
    },
    {
      "cell_type": "markdown",
      "metadata": {
        "id": "Nl8dS2ZwU59n",
        "colab_type": "text"
      },
      "source": [
        "The best k is 16 in this case. Because it has the minimum test error rate, which means the accuracy for prediction is high when the knn model has 16 nearest neighbors.  "
      ]
    },
    {
      "cell_type": "markdown",
      "metadata": {
        "id": "9glkkZENU59n",
        "colab_type": "text"
      },
      "source": [
        "### (d)ii"
      ]
    },
    {
      "cell_type": "code",
      "metadata": {
        "id": "JKRwzsl8U59o",
        "colab_type": "code",
        "colab": {}
      },
      "source": [
        "# train a knn model with Mahalanobis metric and test it in terms of k\n",
        "tr_err,te_err = [],[]\n",
        "k = np.arange(1,197,5)\n",
        "for i in k:\n",
        "    knn = neighbors.KNeighborsClassifier(algorithm='brute',n_neighbors=i,metric='mahalanobis',metric_params={'V':np.cov(tr_x)})\n",
        "    knn.fit(tr_x,tr_y)\n",
        "    tr_err.append(1-knn.score(tr_x,tr_y))\n",
        "    te_err.append(1-knn.score(te_x,te_y))\n",
        "#summarize the test errors in a table\n",
        "te_err_tab = pd.DataFrame([k,te_err],index=['k','test errors'])"
      ],
      "execution_count": null,
      "outputs": []
    },
    {
      "cell_type": "code",
      "metadata": {
        "scrolled": true,
        "id": "WnnE9zUtU59q",
        "colab_type": "code",
        "colab": {},
        "outputId": "883a43fc-5beb-4e9a-b350-1cd66d9becf3"
      },
      "source": [
        "te_err_tab"
      ],
      "execution_count": null,
      "outputs": [
        {
          "output_type": "execute_result",
          "data": {
            "text/html": [
              "<div>\n",
              "<style scoped>\n",
              "    .dataframe tbody tr th:only-of-type {\n",
              "        vertical-align: middle;\n",
              "    }\n",
              "\n",
              "    .dataframe tbody tr th {\n",
              "        vertical-align: top;\n",
              "    }\n",
              "\n",
              "    .dataframe thead th {\n",
              "        text-align: right;\n",
              "    }\n",
              "</style>\n",
              "<table border=\"1\" class=\"dataframe\">\n",
              "  <thead>\n",
              "    <tr style=\"text-align: right;\">\n",
              "      <th></th>\n",
              "      <th>0</th>\n",
              "      <th>1</th>\n",
              "      <th>2</th>\n",
              "      <th>3</th>\n",
              "      <th>4</th>\n",
              "      <th>5</th>\n",
              "      <th>6</th>\n",
              "      <th>7</th>\n",
              "      <th>8</th>\n",
              "      <th>9</th>\n",
              "      <th>10</th>\n",
              "      <th>11</th>\n",
              "      <th>12</th>\n",
              "      <th>13</th>\n",
              "      <th>14</th>\n",
              "      <th>15</th>\n",
              "      <th>16</th>\n",
              "      <th>17</th>\n",
              "      <th>18</th>\n",
              "      <th>19</th>\n",
              "      <th>20</th>\n",
              "      <th>21</th>\n",
              "      <th>22</th>\n",
              "      <th>23</th>\n",
              "      <th>24</th>\n",
              "      <th>25</th>\n",
              "      <th>26</th>\n",
              "      <th>27</th>\n",
              "      <th>28</th>\n",
              "      <th>29</th>\n",
              "      <th>30</th>\n",
              "      <th>31</th>\n",
              "      <th>32</th>\n",
              "      <th>33</th>\n",
              "      <th>34</th>\n",
              "      <th>35</th>\n",
              "      <th>36</th>\n",
              "      <th>37</th>\n",
              "      <th>38</th>\n",
              "      <th>39</th>\n",
              "    </tr>\n",
              "  </thead>\n",
              "  <tbody>\n",
              "    <tr>\n",
              "      <td>k</td>\n",
              "      <td>1.00</td>\n",
              "      <td>6.00</td>\n",
              "      <td>11.00</td>\n",
              "      <td>16.0</td>\n",
              "      <td>21.00</td>\n",
              "      <td>26.00</td>\n",
              "      <td>31.00</td>\n",
              "      <td>36.00</td>\n",
              "      <td>41.00</td>\n",
              "      <td>46.00</td>\n",
              "      <td>51.00</td>\n",
              "      <td>56.00</td>\n",
              "      <td>61.00</td>\n",
              "      <td>66.00</td>\n",
              "      <td>71.00</td>\n",
              "      <td>76.00</td>\n",
              "      <td>81.00</td>\n",
              "      <td>86.00</td>\n",
              "      <td>91.00</td>\n",
              "      <td>96.00</td>\n",
              "      <td>101.00</td>\n",
              "      <td>106.00</td>\n",
              "      <td>111.00</td>\n",
              "      <td>116.00</td>\n",
              "      <td>121.0</td>\n",
              "      <td>126.0</td>\n",
              "      <td>131.0</td>\n",
              "      <td>136.0</td>\n",
              "      <td>141.0</td>\n",
              "      <td>146.0</td>\n",
              "      <td>151.0</td>\n",
              "      <td>156.0</td>\n",
              "      <td>161.0</td>\n",
              "      <td>166.0</td>\n",
              "      <td>171.0</td>\n",
              "      <td>176.0</td>\n",
              "      <td>181.0</td>\n",
              "      <td>186.0</td>\n",
              "      <td>191.0</td>\n",
              "      <td>196.0</td>\n",
              "    </tr>\n",
              "    <tr>\n",
              "      <td>test errors</td>\n",
              "      <td>0.18</td>\n",
              "      <td>0.16</td>\n",
              "      <td>0.19</td>\n",
              "      <td>0.2</td>\n",
              "      <td>0.23</td>\n",
              "      <td>0.21</td>\n",
              "      <td>0.21</td>\n",
              "      <td>0.23</td>\n",
              "      <td>0.23</td>\n",
              "      <td>0.24</td>\n",
              "      <td>0.25</td>\n",
              "      <td>0.26</td>\n",
              "      <td>0.26</td>\n",
              "      <td>0.26</td>\n",
              "      <td>0.27</td>\n",
              "      <td>0.27</td>\n",
              "      <td>0.25</td>\n",
              "      <td>0.27</td>\n",
              "      <td>0.28</td>\n",
              "      <td>0.26</td>\n",
              "      <td>0.28</td>\n",
              "      <td>0.29</td>\n",
              "      <td>0.29</td>\n",
              "      <td>0.29</td>\n",
              "      <td>0.3</td>\n",
              "      <td>0.3</td>\n",
              "      <td>0.3</td>\n",
              "      <td>0.3</td>\n",
              "      <td>0.3</td>\n",
              "      <td>0.3</td>\n",
              "      <td>0.3</td>\n",
              "      <td>0.3</td>\n",
              "      <td>0.3</td>\n",
              "      <td>0.3</td>\n",
              "      <td>0.3</td>\n",
              "      <td>0.3</td>\n",
              "      <td>0.3</td>\n",
              "      <td>0.3</td>\n",
              "      <td>0.3</td>\n",
              "      <td>0.3</td>\n",
              "    </tr>\n",
              "  </tbody>\n",
              "</table>\n",
              "</div>"
            ],
            "text/plain": [
              "                0     1      2     3      4      5      6      7      8  \\\n",
              "k            1.00  6.00  11.00  16.0  21.00  26.00  31.00  36.00  41.00   \n",
              "test errors  0.18  0.16   0.19   0.2   0.23   0.21   0.21   0.23   0.23   \n",
              "\n",
              "                 9     10     11     12     13     14     15     16     17  \\\n",
              "k            46.00  51.00  56.00  61.00  66.00  71.00  76.00  81.00  86.00   \n",
              "test errors   0.24   0.25   0.26   0.26   0.26   0.27   0.27   0.25   0.27   \n",
              "\n",
              "                18     19      20      21      22      23     24     25  \\\n",
              "k            91.00  96.00  101.00  106.00  111.00  116.00  121.0  126.0   \n",
              "test errors   0.28   0.26    0.28    0.29    0.29    0.29    0.3    0.3   \n",
              "\n",
              "                26     27     28     29     30     31     32     33     34  \\\n",
              "k            131.0  136.0  141.0  146.0  151.0  156.0  161.0  166.0  171.0   \n",
              "test errors    0.3    0.3    0.3    0.3    0.3    0.3    0.3    0.3    0.3   \n",
              "\n",
              "                35     36     37     38     39  \n",
              "k            176.0  181.0  186.0  191.0  196.0  \n",
              "test errors    0.3    0.3    0.3    0.3    0.3  "
            ]
          },
          "metadata": {
            "tags": []
          },
          "execution_count": 46
        }
      ]
    },
    {
      "cell_type": "code",
      "metadata": {
        "id": "lCsCYOTwU59s",
        "colab_type": "code",
        "colab": {},
        "outputId": "9a4e2108-24d7-4422-e82a-4c5da5eab0ce"
      },
      "source": [
        "# find the lowest test error rate\n",
        "te_err_tab[te_err_tab == min(te_err)]"
      ],
      "execution_count": null,
      "outputs": [
        {
          "output_type": "execute_result",
          "data": {
            "text/html": [
              "<div>\n",
              "<style scoped>\n",
              "    .dataframe tbody tr th:only-of-type {\n",
              "        vertical-align: middle;\n",
              "    }\n",
              "\n",
              "    .dataframe tbody tr th {\n",
              "        vertical-align: top;\n",
              "    }\n",
              "\n",
              "    .dataframe thead th {\n",
              "        text-align: right;\n",
              "    }\n",
              "</style>\n",
              "<table border=\"1\" class=\"dataframe\">\n",
              "  <thead>\n",
              "    <tr style=\"text-align: right;\">\n",
              "      <th></th>\n",
              "      <th>0</th>\n",
              "      <th>1</th>\n",
              "      <th>2</th>\n",
              "      <th>3</th>\n",
              "      <th>4</th>\n",
              "      <th>5</th>\n",
              "      <th>6</th>\n",
              "      <th>7</th>\n",
              "      <th>8</th>\n",
              "      <th>9</th>\n",
              "      <th>10</th>\n",
              "      <th>11</th>\n",
              "      <th>12</th>\n",
              "      <th>13</th>\n",
              "      <th>14</th>\n",
              "      <th>15</th>\n",
              "      <th>16</th>\n",
              "      <th>17</th>\n",
              "      <th>18</th>\n",
              "      <th>19</th>\n",
              "      <th>20</th>\n",
              "      <th>21</th>\n",
              "      <th>22</th>\n",
              "      <th>23</th>\n",
              "      <th>24</th>\n",
              "      <th>25</th>\n",
              "      <th>26</th>\n",
              "      <th>27</th>\n",
              "      <th>28</th>\n",
              "      <th>29</th>\n",
              "      <th>30</th>\n",
              "      <th>31</th>\n",
              "      <th>32</th>\n",
              "      <th>33</th>\n",
              "      <th>34</th>\n",
              "      <th>35</th>\n",
              "      <th>36</th>\n",
              "      <th>37</th>\n",
              "      <th>38</th>\n",
              "      <th>39</th>\n",
              "    </tr>\n",
              "  </thead>\n",
              "  <tbody>\n",
              "    <tr>\n",
              "      <td>k</td>\n",
              "      <td>NaN</td>\n",
              "      <td>NaN</td>\n",
              "      <td>NaN</td>\n",
              "      <td>NaN</td>\n",
              "      <td>NaN</td>\n",
              "      <td>NaN</td>\n",
              "      <td>NaN</td>\n",
              "      <td>NaN</td>\n",
              "      <td>NaN</td>\n",
              "      <td>NaN</td>\n",
              "      <td>NaN</td>\n",
              "      <td>NaN</td>\n",
              "      <td>NaN</td>\n",
              "      <td>NaN</td>\n",
              "      <td>NaN</td>\n",
              "      <td>NaN</td>\n",
              "      <td>NaN</td>\n",
              "      <td>NaN</td>\n",
              "      <td>NaN</td>\n",
              "      <td>NaN</td>\n",
              "      <td>NaN</td>\n",
              "      <td>NaN</td>\n",
              "      <td>NaN</td>\n",
              "      <td>NaN</td>\n",
              "      <td>NaN</td>\n",
              "      <td>NaN</td>\n",
              "      <td>NaN</td>\n",
              "      <td>NaN</td>\n",
              "      <td>NaN</td>\n",
              "      <td>NaN</td>\n",
              "      <td>NaN</td>\n",
              "      <td>NaN</td>\n",
              "      <td>NaN</td>\n",
              "      <td>NaN</td>\n",
              "      <td>NaN</td>\n",
              "      <td>NaN</td>\n",
              "      <td>NaN</td>\n",
              "      <td>NaN</td>\n",
              "      <td>NaN</td>\n",
              "      <td>NaN</td>\n",
              "    </tr>\n",
              "    <tr>\n",
              "      <td>test errors</td>\n",
              "      <td>NaN</td>\n",
              "      <td>0.16</td>\n",
              "      <td>NaN</td>\n",
              "      <td>NaN</td>\n",
              "      <td>NaN</td>\n",
              "      <td>NaN</td>\n",
              "      <td>NaN</td>\n",
              "      <td>NaN</td>\n",
              "      <td>NaN</td>\n",
              "      <td>NaN</td>\n",
              "      <td>NaN</td>\n",
              "      <td>NaN</td>\n",
              "      <td>NaN</td>\n",
              "      <td>NaN</td>\n",
              "      <td>NaN</td>\n",
              "      <td>NaN</td>\n",
              "      <td>NaN</td>\n",
              "      <td>NaN</td>\n",
              "      <td>NaN</td>\n",
              "      <td>NaN</td>\n",
              "      <td>NaN</td>\n",
              "      <td>NaN</td>\n",
              "      <td>NaN</td>\n",
              "      <td>NaN</td>\n",
              "      <td>NaN</td>\n",
              "      <td>NaN</td>\n",
              "      <td>NaN</td>\n",
              "      <td>NaN</td>\n",
              "      <td>NaN</td>\n",
              "      <td>NaN</td>\n",
              "      <td>NaN</td>\n",
              "      <td>NaN</td>\n",
              "      <td>NaN</td>\n",
              "      <td>NaN</td>\n",
              "      <td>NaN</td>\n",
              "      <td>NaN</td>\n",
              "      <td>NaN</td>\n",
              "      <td>NaN</td>\n",
              "      <td>NaN</td>\n",
              "      <td>NaN</td>\n",
              "    </tr>\n",
              "  </tbody>\n",
              "</table>\n",
              "</div>"
            ],
            "text/plain": [
              "              0     1   2   3   4   5   6   7   8   9  10  11  12  13  14  15  \\\n",
              "k           NaN   NaN NaN NaN NaN NaN NaN NaN NaN NaN NaN NaN NaN NaN NaN NaN   \n",
              "test errors NaN  0.16 NaN NaN NaN NaN NaN NaN NaN NaN NaN NaN NaN NaN NaN NaN   \n",
              "\n",
              "             16  17  18  19  20  21  22  23  24  25  26  27  28  29  30  31  \\\n",
              "k           NaN NaN NaN NaN NaN NaN NaN NaN NaN NaN NaN NaN NaN NaN NaN NaN   \n",
              "test errors NaN NaN NaN NaN NaN NaN NaN NaN NaN NaN NaN NaN NaN NaN NaN NaN   \n",
              "\n",
              "             32  33  34  35  36  37  38  39  \n",
              "k           NaN NaN NaN NaN NaN NaN NaN NaN  \n",
              "test errors NaN NaN NaN NaN NaN NaN NaN NaN  "
            ]
          },
          "metadata": {
            "tags": []
          },
          "execution_count": 47
        }
      ]
    },
    {
      "cell_type": "code",
      "metadata": {
        "id": "iReCdOitU59u",
        "colab_type": "code",
        "colab": {},
        "outputId": "e1170de7-19fb-4a43-fa2e-0facb9b293d7"
      },
      "source": [
        "# find the lowest train error rate\n",
        "min(tr_err[1:])"
      ],
      "execution_count": null,
      "outputs": [
        {
          "output_type": "execute_result",
          "data": {
            "text/plain": [
              "0.11904761904761907"
            ]
          },
          "metadata": {
            "tags": []
          },
          "execution_count": 48
        }
      ]
    },
    {
      "cell_type": "markdown",
      "metadata": {
        "id": "HRb6qmnEU59x",
        "colab_type": "text"
      },
      "source": [
        "#### **Answer6**"
      ]
    },
    {
      "cell_type": "markdown",
      "metadata": {
        "id": "eTa62uO5U59x",
        "colab_type": "text"
      },
      "source": [
        "The best k is 6 in this case. Because it has the minimum test error rate, which means the accuracy for prediction is high when the knn model has 6 nearest neighbors.  "
      ]
    },
    {
      "cell_type": "markdown",
      "metadata": {
        "id": "ZMsG1MSkU59x",
        "colab_type": "text"
      },
      "source": [
        "### (e)"
      ]
    },
    {
      "cell_type": "code",
      "metadata": {
        "id": "VCzyCPr0U59y",
        "colab_type": "code",
        "colab": {}
      },
      "source": [
        "# train a knn model with Euclidean metric by weighted decision and test it in terms of k\n",
        "tr_err,te_err = [],[]\n",
        "k = np.arange(1,197,5)\n",
        "for i in k:\n",
        "    knn = neighbors.KNeighborsClassifier(n_neighbors=i,metric='euclidean',weights='distance')\n",
        "    knn.fit(tr_x,tr_y)\n",
        "    tr_err.append(1-knn.score(tr_x,tr_y))\n",
        "    te_err.append(1-knn.score(te_x,te_y))\n",
        "#summarize the test errors in a table\n",
        "te_err_tab = pd.DataFrame([k,te_err],index=['k','test errors'])"
      ],
      "execution_count": null,
      "outputs": []
    },
    {
      "cell_type": "code",
      "metadata": {
        "id": "z3WBw1bjU590",
        "colab_type": "code",
        "colab": {},
        "outputId": "ee6c2f08-317f-44f9-a5c0-a6944e527843"
      },
      "source": [
        "te_err_tab"
      ],
      "execution_count": null,
      "outputs": [
        {
          "output_type": "execute_result",
          "data": {
            "text/html": [
              "<div>\n",
              "<style scoped>\n",
              "    .dataframe tbody tr th:only-of-type {\n",
              "        vertical-align: middle;\n",
              "    }\n",
              "\n",
              "    .dataframe tbody tr th {\n",
              "        vertical-align: top;\n",
              "    }\n",
              "\n",
              "    .dataframe thead th {\n",
              "        text-align: right;\n",
              "    }\n",
              "</style>\n",
              "<table border=\"1\" class=\"dataframe\">\n",
              "  <thead>\n",
              "    <tr style=\"text-align: right;\">\n",
              "      <th></th>\n",
              "      <th>0</th>\n",
              "      <th>1</th>\n",
              "      <th>2</th>\n",
              "      <th>3</th>\n",
              "      <th>4</th>\n",
              "      <th>5</th>\n",
              "      <th>6</th>\n",
              "      <th>7</th>\n",
              "      <th>8</th>\n",
              "      <th>9</th>\n",
              "      <th>10</th>\n",
              "      <th>11</th>\n",
              "      <th>12</th>\n",
              "      <th>13</th>\n",
              "      <th>14</th>\n",
              "      <th>15</th>\n",
              "      <th>16</th>\n",
              "      <th>17</th>\n",
              "      <th>18</th>\n",
              "      <th>19</th>\n",
              "      <th>20</th>\n",
              "      <th>21</th>\n",
              "      <th>22</th>\n",
              "      <th>23</th>\n",
              "      <th>24</th>\n",
              "      <th>25</th>\n",
              "      <th>26</th>\n",
              "      <th>27</th>\n",
              "      <th>28</th>\n",
              "      <th>29</th>\n",
              "      <th>30</th>\n",
              "      <th>31</th>\n",
              "      <th>32</th>\n",
              "      <th>33</th>\n",
              "      <th>34</th>\n",
              "      <th>35</th>\n",
              "      <th>36</th>\n",
              "      <th>37</th>\n",
              "      <th>38</th>\n",
              "      <th>39</th>\n",
              "    </tr>\n",
              "  </thead>\n",
              "  <tbody>\n",
              "    <tr>\n",
              "      <td>k</td>\n",
              "      <td>1.00</td>\n",
              "      <td>6.0</td>\n",
              "      <td>11.00</td>\n",
              "      <td>16.00</td>\n",
              "      <td>21.00</td>\n",
              "      <td>26.00</td>\n",
              "      <td>31.00</td>\n",
              "      <td>36.00</td>\n",
              "      <td>41.00</td>\n",
              "      <td>46.00</td>\n",
              "      <td>51.00</td>\n",
              "      <td>56.00</td>\n",
              "      <td>61.00</td>\n",
              "      <td>66.00</td>\n",
              "      <td>71.00</td>\n",
              "      <td>76.00</td>\n",
              "      <td>81.00</td>\n",
              "      <td>86.00</td>\n",
              "      <td>91.00</td>\n",
              "      <td>96.00</td>\n",
              "      <td>101.00</td>\n",
              "      <td>106.00</td>\n",
              "      <td>111.00</td>\n",
              "      <td>116.00</td>\n",
              "      <td>121.00</td>\n",
              "      <td>126.00</td>\n",
              "      <td>131.00</td>\n",
              "      <td>136.00</td>\n",
              "      <td>141.00</td>\n",
              "      <td>146.00</td>\n",
              "      <td>151.00</td>\n",
              "      <td>156.0</td>\n",
              "      <td>161.00</td>\n",
              "      <td>166.00</td>\n",
              "      <td>171.00</td>\n",
              "      <td>176.00</td>\n",
              "      <td>181.00</td>\n",
              "      <td>186.00</td>\n",
              "      <td>191.00</td>\n",
              "      <td>196.00</td>\n",
              "    </tr>\n",
              "    <tr>\n",
              "      <td>test errors</td>\n",
              "      <td>0.13</td>\n",
              "      <td>0.1</td>\n",
              "      <td>0.12</td>\n",
              "      <td>0.11</td>\n",
              "      <td>0.11</td>\n",
              "      <td>0.11</td>\n",
              "      <td>0.11</td>\n",
              "      <td>0.11</td>\n",
              "      <td>0.11</td>\n",
              "      <td>0.11</td>\n",
              "      <td>0.11</td>\n",
              "      <td>0.11</td>\n",
              "      <td>0.11</td>\n",
              "      <td>0.11</td>\n",
              "      <td>0.11</td>\n",
              "      <td>0.12</td>\n",
              "      <td>0.13</td>\n",
              "      <td>0.13</td>\n",
              "      <td>0.14</td>\n",
              "      <td>0.14</td>\n",
              "      <td>0.12</td>\n",
              "      <td>0.14</td>\n",
              "      <td>0.14</td>\n",
              "      <td>0.13</td>\n",
              "      <td>0.13</td>\n",
              "      <td>0.13</td>\n",
              "      <td>0.14</td>\n",
              "      <td>0.14</td>\n",
              "      <td>0.17</td>\n",
              "      <td>0.19</td>\n",
              "      <td>0.19</td>\n",
              "      <td>0.2</td>\n",
              "      <td>0.23</td>\n",
              "      <td>0.25</td>\n",
              "      <td>0.27</td>\n",
              "      <td>0.27</td>\n",
              "      <td>0.27</td>\n",
              "      <td>0.27</td>\n",
              "      <td>0.28</td>\n",
              "      <td>0.28</td>\n",
              "    </tr>\n",
              "  </tbody>\n",
              "</table>\n",
              "</div>"
            ],
            "text/plain": [
              "                0    1      2      3      4      5      6      7      8  \\\n",
              "k            1.00  6.0  11.00  16.00  21.00  26.00  31.00  36.00  41.00   \n",
              "test errors  0.13  0.1   0.12   0.11   0.11   0.11   0.11   0.11   0.11   \n",
              "\n",
              "                 9     10     11     12     13     14     15     16     17  \\\n",
              "k            46.00  51.00  56.00  61.00  66.00  71.00  76.00  81.00  86.00   \n",
              "test errors   0.11   0.11   0.11   0.11   0.11   0.11   0.12   0.13   0.13   \n",
              "\n",
              "                18     19      20      21      22      23      24      25  \\\n",
              "k            91.00  96.00  101.00  106.00  111.00  116.00  121.00  126.00   \n",
              "test errors   0.14   0.14    0.12    0.14    0.14    0.13    0.13    0.13   \n",
              "\n",
              "                 26      27      28      29      30     31      32      33  \\\n",
              "k            131.00  136.00  141.00  146.00  151.00  156.0  161.00  166.00   \n",
              "test errors    0.14    0.14    0.17    0.19    0.19    0.2    0.23    0.25   \n",
              "\n",
              "                 34      35      36      37      38      39  \n",
              "k            171.00  176.00  181.00  186.00  191.00  196.00  \n",
              "test errors    0.27    0.27    0.27    0.27    0.28    0.28  "
            ]
          },
          "metadata": {
            "tags": []
          },
          "execution_count": 50
        }
      ]
    },
    {
      "cell_type": "code",
      "metadata": {
        "id": "kCwlYvr0U591",
        "colab_type": "code",
        "colab": {},
        "outputId": "e9f034a9-d1d9-4ce3-8d1d-06f206deb445"
      },
      "source": [
        "# find the lowest train error rate\n",
        "min(tr_err[1:])"
      ],
      "execution_count": null,
      "outputs": [
        {
          "output_type": "execute_result",
          "data": {
            "text/plain": [
              "0.0"
            ]
          },
          "metadata": {
            "tags": []
          },
          "execution_count": 51
        }
      ]
    },
    {
      "cell_type": "markdown",
      "metadata": {
        "id": "uwZ4D91dU593",
        "colab_type": "text"
      },
      "source": [
        "#### Answer8"
      ]
    },
    {
      "cell_type": "markdown",
      "metadata": {
        "id": "mfMcxqJNU593",
        "colab_type": "text"
      },
      "source": [
        "The best test error rate is 0.1 when k is 6 in this case."
      ]
    },
    {
      "cell_type": "code",
      "metadata": {
        "id": "PiXG3Lk3U594",
        "colab_type": "code",
        "colab": {}
      },
      "source": [
        "# train a knn model with Manhattan metric by weighted decision and test it in terms of k\n",
        "tr_err,te_err = [],[]\n",
        "k = np.arange(1,197,5)\n",
        "for i in k:\n",
        "    knn = neighbors.KNeighborsClassifier(n_neighbors=i,metric='manhattan',weights='distance')\n",
        "    knn.fit(tr_x,tr_y)\n",
        "    tr_err.append(1-knn.score(tr_x,tr_y))\n",
        "    te_err.append(1-knn.score(te_x,te_y))\n",
        "#summarize the test errors in a table\n",
        "te_err_tab = pd.DataFrame([k,te_err],index=['k','test errors'])"
      ],
      "execution_count": null,
      "outputs": []
    },
    {
      "cell_type": "code",
      "metadata": {
        "id": "Uu8mjNRlU596",
        "colab_type": "code",
        "colab": {},
        "outputId": "dddf6644-de1e-47b6-d8b3-ae5b28a05e54"
      },
      "source": [
        "te_err_tab"
      ],
      "execution_count": null,
      "outputs": [
        {
          "output_type": "execute_result",
          "data": {
            "text/html": [
              "<div>\n",
              "<style scoped>\n",
              "    .dataframe tbody tr th:only-of-type {\n",
              "        vertical-align: middle;\n",
              "    }\n",
              "\n",
              "    .dataframe tbody tr th {\n",
              "        vertical-align: top;\n",
              "    }\n",
              "\n",
              "    .dataframe thead th {\n",
              "        text-align: right;\n",
              "    }\n",
              "</style>\n",
              "<table border=\"1\" class=\"dataframe\">\n",
              "  <thead>\n",
              "    <tr style=\"text-align: right;\">\n",
              "      <th></th>\n",
              "      <th>0</th>\n",
              "      <th>1</th>\n",
              "      <th>2</th>\n",
              "      <th>3</th>\n",
              "      <th>4</th>\n",
              "      <th>5</th>\n",
              "      <th>6</th>\n",
              "      <th>7</th>\n",
              "      <th>8</th>\n",
              "      <th>9</th>\n",
              "      <th>10</th>\n",
              "      <th>11</th>\n",
              "      <th>12</th>\n",
              "      <th>13</th>\n",
              "      <th>14</th>\n",
              "      <th>15</th>\n",
              "      <th>16</th>\n",
              "      <th>17</th>\n",
              "      <th>18</th>\n",
              "      <th>19</th>\n",
              "      <th>20</th>\n",
              "      <th>21</th>\n",
              "      <th>22</th>\n",
              "      <th>23</th>\n",
              "      <th>24</th>\n",
              "      <th>25</th>\n",
              "      <th>26</th>\n",
              "      <th>27</th>\n",
              "      <th>28</th>\n",
              "      <th>29</th>\n",
              "      <th>30</th>\n",
              "      <th>31</th>\n",
              "      <th>32</th>\n",
              "      <th>33</th>\n",
              "      <th>34</th>\n",
              "      <th>35</th>\n",
              "      <th>36</th>\n",
              "      <th>37</th>\n",
              "      <th>38</th>\n",
              "      <th>39</th>\n",
              "    </tr>\n",
              "  </thead>\n",
              "  <tbody>\n",
              "    <tr>\n",
              "      <td>k</td>\n",
              "      <td>1.00</td>\n",
              "      <td>6.00</td>\n",
              "      <td>11.00</td>\n",
              "      <td>16.00</td>\n",
              "      <td>21.00</td>\n",
              "      <td>26.0</td>\n",
              "      <td>31.00</td>\n",
              "      <td>36.00</td>\n",
              "      <td>41.00</td>\n",
              "      <td>46.00</td>\n",
              "      <td>51.00</td>\n",
              "      <td>56.00</td>\n",
              "      <td>61.00</td>\n",
              "      <td>66.00</td>\n",
              "      <td>71.00</td>\n",
              "      <td>76.00</td>\n",
              "      <td>81.00</td>\n",
              "      <td>86.00</td>\n",
              "      <td>91.00</td>\n",
              "      <td>96.00</td>\n",
              "      <td>101.00</td>\n",
              "      <td>106.00</td>\n",
              "      <td>111.00</td>\n",
              "      <td>116.00</td>\n",
              "      <td>121.00</td>\n",
              "      <td>126.00</td>\n",
              "      <td>131.00</td>\n",
              "      <td>136.00</td>\n",
              "      <td>141.00</td>\n",
              "      <td>146.00</td>\n",
              "      <td>151.00</td>\n",
              "      <td>156.00</td>\n",
              "      <td>161.00</td>\n",
              "      <td>166.00</td>\n",
              "      <td>171.00</td>\n",
              "      <td>176.00</td>\n",
              "      <td>181.00</td>\n",
              "      <td>186.00</td>\n",
              "      <td>191.00</td>\n",
              "      <td>196.00</td>\n",
              "    </tr>\n",
              "    <tr>\n",
              "      <td>test errors</td>\n",
              "      <td>0.12</td>\n",
              "      <td>0.11</td>\n",
              "      <td>0.11</td>\n",
              "      <td>0.12</td>\n",
              "      <td>0.11</td>\n",
              "      <td>0.1</td>\n",
              "      <td>0.11</td>\n",
              "      <td>0.11</td>\n",
              "      <td>0.11</td>\n",
              "      <td>0.11</td>\n",
              "      <td>0.12</td>\n",
              "      <td>0.12</td>\n",
              "      <td>0.13</td>\n",
              "      <td>0.13</td>\n",
              "      <td>0.11</td>\n",
              "      <td>0.12</td>\n",
              "      <td>0.14</td>\n",
              "      <td>0.14</td>\n",
              "      <td>0.13</td>\n",
              "      <td>0.13</td>\n",
              "      <td>0.15</td>\n",
              "      <td>0.15</td>\n",
              "      <td>0.15</td>\n",
              "      <td>0.15</td>\n",
              "      <td>0.15</td>\n",
              "      <td>0.15</td>\n",
              "      <td>0.15</td>\n",
              "      <td>0.16</td>\n",
              "      <td>0.17</td>\n",
              "      <td>0.18</td>\n",
              "      <td>0.19</td>\n",
              "      <td>0.21</td>\n",
              "      <td>0.24</td>\n",
              "      <td>0.25</td>\n",
              "      <td>0.27</td>\n",
              "      <td>0.27</td>\n",
              "      <td>0.27</td>\n",
              "      <td>0.27</td>\n",
              "      <td>0.28</td>\n",
              "      <td>0.29</td>\n",
              "    </tr>\n",
              "  </tbody>\n",
              "</table>\n",
              "</div>"
            ],
            "text/plain": [
              "                0     1      2      3      4     5      6      7      8  \\\n",
              "k            1.00  6.00  11.00  16.00  21.00  26.0  31.00  36.00  41.00   \n",
              "test errors  0.12  0.11   0.11   0.12   0.11   0.1   0.11   0.11   0.11   \n",
              "\n",
              "                 9     10     11     12     13     14     15     16     17  \\\n",
              "k            46.00  51.00  56.00  61.00  66.00  71.00  76.00  81.00  86.00   \n",
              "test errors   0.11   0.12   0.12   0.13   0.13   0.11   0.12   0.14   0.14   \n",
              "\n",
              "                18     19      20      21      22      23      24      25  \\\n",
              "k            91.00  96.00  101.00  106.00  111.00  116.00  121.00  126.00   \n",
              "test errors   0.13   0.13    0.15    0.15    0.15    0.15    0.15    0.15   \n",
              "\n",
              "                 26      27      28      29      30      31      32      33  \\\n",
              "k            131.00  136.00  141.00  146.00  151.00  156.00  161.00  166.00   \n",
              "test errors    0.15    0.16    0.17    0.18    0.19    0.21    0.24    0.25   \n",
              "\n",
              "                 34      35      36      37      38      39  \n",
              "k            171.00  176.00  181.00  186.00  191.00  196.00  \n",
              "test errors    0.27    0.27    0.27    0.27    0.28    0.29  "
            ]
          },
          "metadata": {
            "tags": []
          },
          "execution_count": 53
        }
      ]
    },
    {
      "cell_type": "code",
      "metadata": {
        "id": "apkaZfGSU598",
        "colab_type": "code",
        "colab": {},
        "outputId": "bb8df4d5-2412-4b5c-b4d2-3dffaf05010b"
      },
      "source": [
        "# find the lowest train error rate\n",
        "min(tr_err[1:])"
      ],
      "execution_count": null,
      "outputs": [
        {
          "output_type": "execute_result",
          "data": {
            "text/plain": [
              "0.0"
            ]
          },
          "metadata": {
            "tags": []
          },
          "execution_count": 54
        }
      ]
    },
    {
      "cell_type": "markdown",
      "metadata": {
        "id": "kFSoHUasU599",
        "colab_type": "text"
      },
      "source": [
        "#### **Answer7**"
      ]
    },
    {
      "cell_type": "markdown",
      "metadata": {
        "id": "lfSy45wwU599",
        "colab_type": "text"
      },
      "source": [
        "The best test error rate is 0.1 when k is 26 in this case."
      ]
    },
    {
      "cell_type": "code",
      "metadata": {
        "id": "tUuyRQ-eU599",
        "colab_type": "code",
        "colab": {}
      },
      "source": [
        "# train a knn model with Chebyshev metric by weighted decision and test it in terms of k\n",
        "tr_err,te_err = [],[]\n",
        "k = np.arange(1,197,5)\n",
        "for i in k:\n",
        "    knn = neighbors.KNeighborsClassifier(n_neighbors=i,metric='chebyshev',weights='distance')\n",
        "    knn.fit(tr_x,tr_y)\n",
        "    tr_err.append(1-knn.score(tr_x,tr_y))\n",
        "    te_err.append(1-knn.score(te_x,te_y))\n",
        "#summarize the test errors in a table\n",
        "te_err_tab = pd.DataFrame([k,te_err],index=['k','test errors'])"
      ],
      "execution_count": null,
      "outputs": []
    },
    {
      "cell_type": "code",
      "metadata": {
        "id": "WbyiYP2SU5-A",
        "colab_type": "code",
        "colab": {},
        "outputId": "9c6b0023-9ac1-4fe7-c8a8-46ab0e51b94c"
      },
      "source": [
        "te_err_tab"
      ],
      "execution_count": null,
      "outputs": [
        {
          "output_type": "execute_result",
          "data": {
            "text/html": [
              "<div>\n",
              "<style scoped>\n",
              "    .dataframe tbody tr th:only-of-type {\n",
              "        vertical-align: middle;\n",
              "    }\n",
              "\n",
              "    .dataframe tbody tr th {\n",
              "        vertical-align: top;\n",
              "    }\n",
              "\n",
              "    .dataframe thead th {\n",
              "        text-align: right;\n",
              "    }\n",
              "</style>\n",
              "<table border=\"1\" class=\"dataframe\">\n",
              "  <thead>\n",
              "    <tr style=\"text-align: right;\">\n",
              "      <th></th>\n",
              "      <th>0</th>\n",
              "      <th>1</th>\n",
              "      <th>2</th>\n",
              "      <th>3</th>\n",
              "      <th>4</th>\n",
              "      <th>5</th>\n",
              "      <th>6</th>\n",
              "      <th>7</th>\n",
              "      <th>8</th>\n",
              "      <th>9</th>\n",
              "      <th>10</th>\n",
              "      <th>11</th>\n",
              "      <th>12</th>\n",
              "      <th>13</th>\n",
              "      <th>14</th>\n",
              "      <th>15</th>\n",
              "      <th>16</th>\n",
              "      <th>17</th>\n",
              "      <th>18</th>\n",
              "      <th>19</th>\n",
              "      <th>20</th>\n",
              "      <th>21</th>\n",
              "      <th>22</th>\n",
              "      <th>23</th>\n",
              "      <th>24</th>\n",
              "      <th>25</th>\n",
              "      <th>26</th>\n",
              "      <th>27</th>\n",
              "      <th>28</th>\n",
              "      <th>29</th>\n",
              "      <th>30</th>\n",
              "      <th>31</th>\n",
              "      <th>32</th>\n",
              "      <th>33</th>\n",
              "      <th>34</th>\n",
              "      <th>35</th>\n",
              "      <th>36</th>\n",
              "      <th>37</th>\n",
              "      <th>38</th>\n",
              "      <th>39</th>\n",
              "    </tr>\n",
              "  </thead>\n",
              "  <tbody>\n",
              "    <tr>\n",
              "      <td>k</td>\n",
              "      <td>1.00</td>\n",
              "      <td>6.00</td>\n",
              "      <td>11.00</td>\n",
              "      <td>16.00</td>\n",
              "      <td>21.00</td>\n",
              "      <td>26.00</td>\n",
              "      <td>31.00</td>\n",
              "      <td>36.00</td>\n",
              "      <td>41.00</td>\n",
              "      <td>46.00</td>\n",
              "      <td>51.00</td>\n",
              "      <td>56.00</td>\n",
              "      <td>61.00</td>\n",
              "      <td>66.00</td>\n",
              "      <td>71.00</td>\n",
              "      <td>76.00</td>\n",
              "      <td>81.00</td>\n",
              "      <td>86.00</td>\n",
              "      <td>91.00</td>\n",
              "      <td>96.00</td>\n",
              "      <td>101.00</td>\n",
              "      <td>106.00</td>\n",
              "      <td>111.00</td>\n",
              "      <td>116.00</td>\n",
              "      <td>121.00</td>\n",
              "      <td>126.00</td>\n",
              "      <td>131.00</td>\n",
              "      <td>136.00</td>\n",
              "      <td>141.00</td>\n",
              "      <td>146.00</td>\n",
              "      <td>151.00</td>\n",
              "      <td>156.00</td>\n",
              "      <td>161.00</td>\n",
              "      <td>166.00</td>\n",
              "      <td>171.00</td>\n",
              "      <td>176.00</td>\n",
              "      <td>181.00</td>\n",
              "      <td>186.00</td>\n",
              "      <td>191.00</td>\n",
              "      <td>196.00</td>\n",
              "    </tr>\n",
              "    <tr>\n",
              "      <td>test errors</td>\n",
              "      <td>0.13</td>\n",
              "      <td>0.13</td>\n",
              "      <td>0.12</td>\n",
              "      <td>0.11</td>\n",
              "      <td>0.12</td>\n",
              "      <td>0.12</td>\n",
              "      <td>0.11</td>\n",
              "      <td>0.11</td>\n",
              "      <td>0.11</td>\n",
              "      <td>0.12</td>\n",
              "      <td>0.12</td>\n",
              "      <td>0.12</td>\n",
              "      <td>0.11</td>\n",
              "      <td>0.13</td>\n",
              "      <td>0.12</td>\n",
              "      <td>0.12</td>\n",
              "      <td>0.12</td>\n",
              "      <td>0.14</td>\n",
              "      <td>0.13</td>\n",
              "      <td>0.14</td>\n",
              "      <td>0.14</td>\n",
              "      <td>0.14</td>\n",
              "      <td>0.14</td>\n",
              "      <td>0.14</td>\n",
              "      <td>0.15</td>\n",
              "      <td>0.14</td>\n",
              "      <td>0.16</td>\n",
              "      <td>0.16</td>\n",
              "      <td>0.18</td>\n",
              "      <td>0.19</td>\n",
              "      <td>0.21</td>\n",
              "      <td>0.21</td>\n",
              "      <td>0.23</td>\n",
              "      <td>0.26</td>\n",
              "      <td>0.26</td>\n",
              "      <td>0.26</td>\n",
              "      <td>0.27</td>\n",
              "      <td>0.27</td>\n",
              "      <td>0.27</td>\n",
              "      <td>0.28</td>\n",
              "    </tr>\n",
              "  </tbody>\n",
              "</table>\n",
              "</div>"
            ],
            "text/plain": [
              "                0     1      2      3      4      5      6      7      8  \\\n",
              "k            1.00  6.00  11.00  16.00  21.00  26.00  31.00  36.00  41.00   \n",
              "test errors  0.13  0.13   0.12   0.11   0.12   0.12   0.11   0.11   0.11   \n",
              "\n",
              "                 9     10     11     12     13     14     15     16     17  \\\n",
              "k            46.00  51.00  56.00  61.00  66.00  71.00  76.00  81.00  86.00   \n",
              "test errors   0.12   0.12   0.12   0.11   0.13   0.12   0.12   0.12   0.14   \n",
              "\n",
              "                18     19      20      21      22      23      24      25  \\\n",
              "k            91.00  96.00  101.00  106.00  111.00  116.00  121.00  126.00   \n",
              "test errors   0.13   0.14    0.14    0.14    0.14    0.14    0.15    0.14   \n",
              "\n",
              "                 26      27      28      29      30      31      32      33  \\\n",
              "k            131.00  136.00  141.00  146.00  151.00  156.00  161.00  166.00   \n",
              "test errors    0.16    0.16    0.18    0.19    0.21    0.21    0.23    0.26   \n",
              "\n",
              "                 34      35      36      37      38      39  \n",
              "k            171.00  176.00  181.00  186.00  191.00  196.00  \n",
              "test errors    0.26    0.26    0.27    0.27    0.27    0.28  "
            ]
          },
          "metadata": {
            "tags": []
          },
          "execution_count": 56
        }
      ]
    },
    {
      "cell_type": "code",
      "metadata": {
        "id": "ZvfuPcH-U5-B",
        "colab_type": "code",
        "colab": {},
        "outputId": "89e9b97e-d9fa-49f0-b7b1-030b4897a17b"
      },
      "source": [
        "# find the lowest train error rate\n",
        "min(tr_err[1:])"
      ],
      "execution_count": null,
      "outputs": [
        {
          "output_type": "execute_result",
          "data": {
            "text/plain": [
              "0.0"
            ]
          },
          "metadata": {
            "tags": []
          },
          "execution_count": 57
        }
      ]
    },
    {
      "cell_type": "markdown",
      "metadata": {
        "id": "ytQ2a0BXU5-E",
        "colab_type": "text"
      },
      "source": [
        "#### Answer9"
      ]
    },
    {
      "cell_type": "markdown",
      "metadata": {
        "id": "snGSu55KU5-F",
        "colab_type": "text"
      },
      "source": [
        "The best test error rate is 0.11 when k is 16, 31, 36, 41 or 61 in this case."
      ]
    },
    {
      "cell_type": "markdown",
      "metadata": {
        "id": "fsP3wx8hU5-F",
        "colab_type": "text"
      },
      "source": [
        "### (f)"
      ]
    },
    {
      "cell_type": "markdown",
      "metadata": {
        "id": "posm4jsjU5-F",
        "colab_type": "text"
      },
      "source": [
        "Except for zero which is obtained in all models when k=1 and in models with weighted decision, the lowest train error rate I achieved in this homework is 0.09999999999999998. It is in (c)iii from a knn model with Euclidean metric and certain k trained with a subset of training data."
      ]
    }
  ]
}